{
 "cells": [
  {
   "cell_type": "code",
   "execution_count": 1,
   "id": "a79a3982",
   "metadata": {},
   "outputs": [],
   "source": [
    "import os\n",
    "import re\n",
    "import PyPDF2\n",
    "import pandas as pd"
   ]
  },
  {
   "cell_type": "code",
   "execution_count": 7,
   "id": "4637ddc8",
   "metadata": {},
   "outputs": [],
   "source": [
    "def extract_pretensiones(file_path):\n",
    "    with open(file_path, 'rb') as file:\n",
    "        reader = PyPDF2.PdfReader(file)\n",
    "        text = \"\"\n",
    "        for page in reader.pages:\n",
    "            text += page.extract_text()\n",
    "    \n",
    "    # Buscar la sección entre \"pretensiones\" y \"consideraciones del despacho\"\n",
    "    match = re.search(r'pretensiones(.*?)consideraciones del despacho', text, re.DOTALL | re.IGNORECASE)\n",
    "    if match:\n",
    "        return match.group(1).strip()\n",
    "    else:\n",
    "        return \"Sección no encontrada\""
   ]
  },
  {
   "cell_type": "code",
   "execution_count": 8,
   "id": "f417148f",
   "metadata": {},
   "outputs": [],
   "source": [
    "# Ruta donde se encuentran los archivos PDF\n",
    "directory = r'C:\\Users\\villa\\OneDrive\\Escritorio\\pretensiones'"
   ]
  },
  {
   "cell_type": "code",
   "execution_count": 9,
   "id": "c9ed774f",
   "metadata": {},
   "outputs": [],
   "source": [
    "# Lista para almacenar los datos extraídos\n",
    "data = []"
   ]
  },
  {
   "cell_type": "code",
   "execution_count": 10,
   "id": "3941fd4e",
   "metadata": {},
   "outputs": [],
   "source": [
    "# Iterar sobre los archivos PDF en la carpeta\n",
    "for filename in os.listdir(directory):\n",
    "    if filename.endswith('.pdf'):\n",
    "        file_path = os.path.join(directory, filename)\n",
    "        extracted_text = extract_pretensiones(file_path)\n",
    "        data.append([filename, extracted_text])"
   ]
  },
  {
   "cell_type": "code",
   "execution_count": 11,
   "id": "a68192e1",
   "metadata": {},
   "outputs": [],
   "source": [
    "# Crear un DataFrame con los resultados\n",
    "df = pd.DataFrame(data, columns=['Nombre del Archivo', 'Extracto Pretensiones'])\n"
   ]
  },
  {
   "cell_type": "code",
   "execution_count": 12,
   "id": "c0fd3348",
   "metadata": {},
   "outputs": [
    {
     "name": "stdout",
     "output_type": "stream",
     "text": [
      "                                   Nombre del Archivo  \\\n",
      "0                      2013__2013-01-370692-1 (1).pdf   \n",
      "1                      2014__2014-01-313763-1 (1).pdf   \n",
      "2              2015_2013-801-165_2015-01-359483-1.pdf   \n",
      "3              2015_2014-801-269_2015-01-367697-1.pdf   \n",
      "4              2015_2014-801-271_2015-01-368105-1.pdf   \n",
      "5           2015_2014-801-271_2015-01-368105-1_cp.pdf   \n",
      "6          2015_2015-800-021_2015-01-280201-1 (1).pdf   \n",
      "7              2016_2014-801-164_2016-01-179369-1.pdf   \n",
      "8              2016_2014-801-193_2016-01-252400-1.pdf   \n",
      "9               2016_2015-800-16_2016-01-352944-1.pdf   \n",
      "10             2016_2015-800-256_2016-01-280086-1.pdf   \n",
      "11              2016_2015-800-25_2016-01-522984-1.pdf   \n",
      "12                         2016__2016-01-392532-1.pdf   \n",
      "13                      2016__2016-01-392532-1_cp.pdf   \n",
      "14             2017_2015-800-234_2017-01-011089-1.pdf   \n",
      "15             2017_2016-800-122_2017-01-366890-1.pdf   \n",
      "16           2018_2016-800-00315_2018-01-379049-1.pdf   \n",
      "17             2018_2016-800-142_2018-01-088633-1.pdf   \n",
      "18          2018_2016-800-142_2018-01-088633-1_cp.pdf   \n",
      "19             2018_2016-800-226_2018-01-057761-1.pdf   \n",
      "20          2018_2016-800-226_2018-01-057761-1_cp.pdf   \n",
      "21             2018_2016-800-384_2018-01-263897-1.pdf   \n",
      "22             2018_2016-800-390_2018-01-327428-1.pdf   \n",
      "23              2018_2017-800-68_2018-01-392915-1.pdf   \n",
      "24                         2018__2018-01-060833-1.pdf   \n",
      "25                         2018__2018-01-141081-1.pdf   \n",
      "26                         2018__2018-01-261764-1.pdf   \n",
      "27                         2018__2018-01-418517-1.pdf   \n",
      "28                         2018__2018-01-446549-1.pdf   \n",
      "29     Sentecia n.° 801-5 de 16 de enero del 2014.pdf   \n",
      "30  Sentencia 2017-01-150235 de 31 de marzo de 201...   \n",
      "31  Sentencia n.° 800-102 de 4 de agosto del 2015.pdf   \n",
      "32  Sentencia n.° 800-12 de 19 de febrero del 2015...   \n",
      "33   Sentencia n.° 800-21 de 30 de marzo del 2017.pdf   \n",
      "34   Sentencia n.° 800-31 de 25 de abril del 2017.pdf   \n",
      "35     Sentencia n.° 800-35 de 2 de mayo del 2017.pdf   \n",
      "36   Sentencia n.° 800-40 de 29 de abril del 2016.pdf   \n",
      "37  Sentencia n.° 800-40 de 29 de abril del 2016_c...   \n",
      "38  Sentencia n.° 800-42 del 5 de mayo del 2016 (1...   \n",
      "39    Sentencia n.° 800-42 del 5 de mayo del 2016.pdf   \n",
      "40  Sentencia n.° 800-52 de 1 de septiembre del 20...   \n",
      "41    Sentencia n.° 800-85 de 8 de julio del 2015.pdf   \n",
      "42     Sentencia n.° 800-9 de 9 de marzo del 2017.pdf   \n",
      "43  Sentencia n.° 801-2647 de 14 de noviembre del ...   \n",
      "44  Sentencia n.° 801-2647 de 14 de noviembre del ...   \n",
      "45   Sentencia n.° 801-30 de 20 de junio del 2013.pdf   \n",
      "46  Sentencia n.° 801-30 de 20 de junio del 2013_c...   \n",
      "47    Sentencia n.° 801-34 de 11 de junio de 2014.pdf   \n",
      "48   Sentencia n.° 801-35 de 09 de julio del 2013.pdf   \n",
      "49  Sentencia n.° 801-64 de 21 de octubre de 2014.pdf   \n",
      "50  Sentencia n.° 801-72 de 11 de diciembre del 20...   \n",
      "51  Sentencia n.° 801-72 de 11 de diciembre del 20...   \n",
      "52   Sentencia n.° 801-76  30 de octubre del 2014.pdf   \n",
      "53  Sentencia n.° 801-76  30 de octubre del 2014_c...   \n",
      "54  Sentencia n.° 801-82 de 20 de noviembre del 20...   \n",
      "55  Sentencia n.º 800-83 de 03 de diciembre del 20...   \n",
      "56  Sentencia nº. 800-116 de 4 de septiembre del 2...   \n",
      "\n",
      "                                Extracto Pretensiones  \n",
      "0   La demanda presentada por José Tito Saúl Bohór...  \n",
      "1   La demanda presentada por Colombiana de Envase...  \n",
      "2   La demanda presentada por Jhon Fredy Díaz Arbe...  \n",
      "3   El escrito de subsanación de la demanda presen...  \n",
      "4   La demanda presentada por Marco Antonio Montañ...  \n",
      "5   La demanda presentada por Marco Antonio Montañ...  \n",
      "6   La demanda presentada por Edouard Diab Libbos ...  \n",
      "7   La demanda presentada por Jorge Eduardo Terrer...  \n",
      "8   La demanda presentada por Construvillage S.A. ...  \n",
      "9   La demanda presentada por José Eduardo Neira L...  \n",
      "10  La demanda presentada por Danilo Lozada Rojas ...  \n",
      "11  La demanda presentada por Impresora Feriva S.A...  \n",
      "12  La demanda presentada por Gustavo Andrés Schal...  \n",
      "13  La demanda presentada por Gustavo Andrés Schal...  \n",
      "14  La demanda presentada por Inversiones Garzón M...  \n",
      "15  La demanda presentada por Orlando José Arbeláe...  \n",
      "16  La demanda de la referencia contiene las prete...  \n",
      "17  La demanda presentada por María de¡ Rosario Ca...  \n",
      "18  La demanda presentada por María de¡ Rosario Ca...  \n",
      "19  La demanda presentada por Nora Lucía Ríos cont...  \n",
      "20  La demanda presentada por Nora Lucía Ríos cont...  \n",
      "21  La demanda presentada por Fabio Miranda Mendoz...  \n",
      "22  La demanda, presentada por Platinium Ibérica S...  \n",
      "23                              Sección no encontrada  \n",
      "24                              Sección no encontrada  \n",
      "25  La demanda presentada por Clara Patricia Monto...  \n",
      "26  La demanda presentada por  Víctor Porras Ramír...  \n",
      "27  La demanda presentada por María del Carmen Sán...  \n",
      "28  La demanda presentada por Fredy Bernardo Osori...  \n",
      "29  La demanda presentada  por Gloria Amparo Franc...  \n",
      "30  La demanda presentada por Laurel Ltda. contien...  \n",
      "31  La demanda presentada por  Ángela María Azuero...  \n",
      "32  La demanda presentada por  Empas S.A. contiene...  \n",
      "33  La demanda presentada por  Laurel Ltda.  conti...  \n",
      "34  La demanda presentada por Interbolsa S.A. Soci...  \n",
      "35  La demanda presentada por José Gerardo Díaz Ar...  \n",
      "36  La demanda presentada por Maria del Rosario Ca...  \n",
      "37  La demanda presentada por Maria del Rosario Ca...  \n",
      "38  La demanda presentada por  Construvillage S.A....  \n",
      "39  La demanda presentada por  Construvillage S.A....  \n",
      "40  La demanda presentada por Sucesión de María de...  \n",
      "41  La demanda presentada por  Morocota Gold S.A.S...  \n",
      "42  La demanda pr esentada por  Alexander Bayona B...  \n",
      "43  La demanda presentada por Winner Group S.A.  c...  \n",
      "44  La demanda presentada por Winner Group S.A.  c...  \n",
      "45  La demanda presentada por Hydro  Press S.A. co...  \n",
      "46  La demanda presentada por Hydro  Press S.A. co...  \n",
      "47                              Sección no encontrada  \n",
      "48  La demanda presentada por  SAC Estructuras Met...  \n",
      "49  La demanda presentada por  Carlos Enrique Mont...  \n",
      "50  La pretensión única de la demanda está encamin...  \n",
      "51  La pretensión única de la demanda está encamin...  \n",
      "52  La demanda presentada por Maria del Rosario Ca...  \n",
      "53  La demanda presentada por Maria del Rosario Ca...  \n",
      "54  La demanda presentada por  Productora de Texti...  \n",
      "55  La demanda presentada por José Lucas Dugand Pi...  \n",
      "56  La demanda pre sentada por  Ángela María Azuer...  \n"
     ]
    }
   ],
   "source": [
    "# Mostrar el DataFrame\n",
    "print(df)"
   ]
  },
  {
   "cell_type": "code",
   "execution_count": 13,
   "id": "d217244e",
   "metadata": {},
   "outputs": [],
   "source": [
    "datos_completos=df"
   ]
  },
  {
   "cell_type": "code",
   "execution_count": 14,
   "id": "fb4be784",
   "metadata": {},
   "outputs": [],
   "source": [
    "# Guardar el DataFrame en un archivo Excel\n",
    "datos_completos.to_excel('pretensiones2.xlsx', index=False)"
   ]
  },
  {
   "cell_type": "code",
   "execution_count": null,
   "id": "77911804",
   "metadata": {},
   "outputs": [],
   "source": []
  }
 ],
 "metadata": {
  "kernelspec": {
   "display_name": "Python 3 (ipykernel)",
   "language": "python",
   "name": "python3"
  },
  "language_info": {
   "codemirror_mode": {
    "name": "ipython",
    "version": 3
   },
   "file_extension": ".py",
   "mimetype": "text/x-python",
   "name": "python",
   "nbconvert_exporter": "python",
   "pygments_lexer": "ipython3",
   "version": "3.10.9"
  }
 },
 "nbformat": 4,
 "nbformat_minor": 5
}
