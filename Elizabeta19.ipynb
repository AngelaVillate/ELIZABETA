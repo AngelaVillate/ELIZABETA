{
  "nbformat": 4,
  "nbformat_minor": 0,
  "metadata": {
    "colab": {
      "provenance": []
    },
    "kernelspec": {
      "name": "python3",
      "display_name": "Python 3"
    },
    "language_info": {
      "name": "python"
    },
    "widgets": {
      "application/vnd.jupyter.widget-state+json": {
        "24f5ee3bbbe14633a0379bb7763df0cb": {
          "model_module": "@jupyter-widgets/controls",
          "model_name": "HBoxModel",
          "model_module_version": "1.5.0",
          "state": {
            "_dom_classes": [],
            "_model_module": "@jupyter-widgets/controls",
            "_model_module_version": "1.5.0",
            "_model_name": "HBoxModel",
            "_view_count": null,
            "_view_module": "@jupyter-widgets/controls",
            "_view_module_version": "1.5.0",
            "_view_name": "HBoxView",
            "box_style": "",
            "children": [
              "IPY_MODEL_b7e831cc15264c228202e7d0e15ec27c",
              "IPY_MODEL_31b5bf538a154511b106b7acfa33e85a",
              "IPY_MODEL_764d1828bb394d71a19c1629895c9c86"
            ],
            "layout": "IPY_MODEL_bee919cf98c64806aee62ff3a25e3a7a"
          }
        },
        "b7e831cc15264c228202e7d0e15ec27c": {
          "model_module": "@jupyter-widgets/controls",
          "model_name": "HTMLModel",
          "model_module_version": "1.5.0",
          "state": {
            "_dom_classes": [],
            "_model_module": "@jupyter-widgets/controls",
            "_model_module_version": "1.5.0",
            "_model_name": "HTMLModel",
            "_view_count": null,
            "_view_module": "@jupyter-widgets/controls",
            "_view_module_version": "1.5.0",
            "_view_name": "HTMLView",
            "description": "",
            "description_tooltip": null,
            "layout": "IPY_MODEL_fef6713b06ab468298a2d0c9232c42ad",
            "placeholder": "​",
            "style": "IPY_MODEL_8d2cfc8e154c4bfba3e8273942f90f7d",
            "value": "tokenizer_config.json: 100%"
          }
        },
        "31b5bf538a154511b106b7acfa33e85a": {
          "model_module": "@jupyter-widgets/controls",
          "model_name": "FloatProgressModel",
          "model_module_version": "1.5.0",
          "state": {
            "_dom_classes": [],
            "_model_module": "@jupyter-widgets/controls",
            "_model_module_version": "1.5.0",
            "_model_name": "FloatProgressModel",
            "_view_count": null,
            "_view_module": "@jupyter-widgets/controls",
            "_view_module_version": "1.5.0",
            "_view_name": "ProgressView",
            "bar_style": "success",
            "description": "",
            "description_tooltip": null,
            "layout": "IPY_MODEL_e895955ff086461fa23c1fc325cba4ff",
            "max": 310,
            "min": 0,
            "orientation": "horizontal",
            "style": "IPY_MODEL_e58384aec9ea41ac992afe6d54ae093f",
            "value": 310
          }
        },
        "764d1828bb394d71a19c1629895c9c86": {
          "model_module": "@jupyter-widgets/controls",
          "model_name": "HTMLModel",
          "model_module_version": "1.5.0",
          "state": {
            "_dom_classes": [],
            "_model_module": "@jupyter-widgets/controls",
            "_model_module_version": "1.5.0",
            "_model_name": "HTMLModel",
            "_view_count": null,
            "_view_module": "@jupyter-widgets/controls",
            "_view_module_version": "1.5.0",
            "_view_name": "HTMLView",
            "description": "",
            "description_tooltip": null,
            "layout": "IPY_MODEL_88702250cee946dc96a975b4222af982",
            "placeholder": "​",
            "style": "IPY_MODEL_70ed68dd1b3d429fbb4cf287e004dfbf",
            "value": " 310/310 [00:00&lt;00:00, 4.82kB/s]"
          }
        },
        "bee919cf98c64806aee62ff3a25e3a7a": {
          "model_module": "@jupyter-widgets/base",
          "model_name": "LayoutModel",
          "model_module_version": "1.2.0",
          "state": {
            "_model_module": "@jupyter-widgets/base",
            "_model_module_version": "1.2.0",
            "_model_name": "LayoutModel",
            "_view_count": null,
            "_view_module": "@jupyter-widgets/base",
            "_view_module_version": "1.2.0",
            "_view_name": "LayoutView",
            "align_content": null,
            "align_items": null,
            "align_self": null,
            "border": null,
            "bottom": null,
            "display": null,
            "flex": null,
            "flex_flow": null,
            "grid_area": null,
            "grid_auto_columns": null,
            "grid_auto_flow": null,
            "grid_auto_rows": null,
            "grid_column": null,
            "grid_gap": null,
            "grid_row": null,
            "grid_template_areas": null,
            "grid_template_columns": null,
            "grid_template_rows": null,
            "height": null,
            "justify_content": null,
            "justify_items": null,
            "left": null,
            "margin": null,
            "max_height": null,
            "max_width": null,
            "min_height": null,
            "min_width": null,
            "object_fit": null,
            "object_position": null,
            "order": null,
            "overflow": null,
            "overflow_x": null,
            "overflow_y": null,
            "padding": null,
            "right": null,
            "top": null,
            "visibility": null,
            "width": null
          }
        },
        "fef6713b06ab468298a2d0c9232c42ad": {
          "model_module": "@jupyter-widgets/base",
          "model_name": "LayoutModel",
          "model_module_version": "1.2.0",
          "state": {
            "_model_module": "@jupyter-widgets/base",
            "_model_module_version": "1.2.0",
            "_model_name": "LayoutModel",
            "_view_count": null,
            "_view_module": "@jupyter-widgets/base",
            "_view_module_version": "1.2.0",
            "_view_name": "LayoutView",
            "align_content": null,
            "align_items": null,
            "align_self": null,
            "border": null,
            "bottom": null,
            "display": null,
            "flex": null,
            "flex_flow": null,
            "grid_area": null,
            "grid_auto_columns": null,
            "grid_auto_flow": null,
            "grid_auto_rows": null,
            "grid_column": null,
            "grid_gap": null,
            "grid_row": null,
            "grid_template_areas": null,
            "grid_template_columns": null,
            "grid_template_rows": null,
            "height": null,
            "justify_content": null,
            "justify_items": null,
            "left": null,
            "margin": null,
            "max_height": null,
            "max_width": null,
            "min_height": null,
            "min_width": null,
            "object_fit": null,
            "object_position": null,
            "order": null,
            "overflow": null,
            "overflow_x": null,
            "overflow_y": null,
            "padding": null,
            "right": null,
            "top": null,
            "visibility": null,
            "width": null
          }
        },
        "8d2cfc8e154c4bfba3e8273942f90f7d": {
          "model_module": "@jupyter-widgets/controls",
          "model_name": "DescriptionStyleModel",
          "model_module_version": "1.5.0",
          "state": {
            "_model_module": "@jupyter-widgets/controls",
            "_model_module_version": "1.5.0",
            "_model_name": "DescriptionStyleModel",
            "_view_count": null,
            "_view_module": "@jupyter-widgets/base",
            "_view_module_version": "1.2.0",
            "_view_name": "StyleView",
            "description_width": ""
          }
        },
        "e895955ff086461fa23c1fc325cba4ff": {
          "model_module": "@jupyter-widgets/base",
          "model_name": "LayoutModel",
          "model_module_version": "1.2.0",
          "state": {
            "_model_module": "@jupyter-widgets/base",
            "_model_module_version": "1.2.0",
            "_model_name": "LayoutModel",
            "_view_count": null,
            "_view_module": "@jupyter-widgets/base",
            "_view_module_version": "1.2.0",
            "_view_name": "LayoutView",
            "align_content": null,
            "align_items": null,
            "align_self": null,
            "border": null,
            "bottom": null,
            "display": null,
            "flex": null,
            "flex_flow": null,
            "grid_area": null,
            "grid_auto_columns": null,
            "grid_auto_flow": null,
            "grid_auto_rows": null,
            "grid_column": null,
            "grid_gap": null,
            "grid_row": null,
            "grid_template_areas": null,
            "grid_template_columns": null,
            "grid_template_rows": null,
            "height": null,
            "justify_content": null,
            "justify_items": null,
            "left": null,
            "margin": null,
            "max_height": null,
            "max_width": null,
            "min_height": null,
            "min_width": null,
            "object_fit": null,
            "object_position": null,
            "order": null,
            "overflow": null,
            "overflow_x": null,
            "overflow_y": null,
            "padding": null,
            "right": null,
            "top": null,
            "visibility": null,
            "width": null
          }
        },
        "e58384aec9ea41ac992afe6d54ae093f": {
          "model_module": "@jupyter-widgets/controls",
          "model_name": "ProgressStyleModel",
          "model_module_version": "1.5.0",
          "state": {
            "_model_module": "@jupyter-widgets/controls",
            "_model_module_version": "1.5.0",
            "_model_name": "ProgressStyleModel",
            "_view_count": null,
            "_view_module": "@jupyter-widgets/base",
            "_view_module_version": "1.2.0",
            "_view_name": "StyleView",
            "bar_color": null,
            "description_width": ""
          }
        },
        "88702250cee946dc96a975b4222af982": {
          "model_module": "@jupyter-widgets/base",
          "model_name": "LayoutModel",
          "model_module_version": "1.2.0",
          "state": {
            "_model_module": "@jupyter-widgets/base",
            "_model_module_version": "1.2.0",
            "_model_name": "LayoutModel",
            "_view_count": null,
            "_view_module": "@jupyter-widgets/base",
            "_view_module_version": "1.2.0",
            "_view_name": "LayoutView",
            "align_content": null,
            "align_items": null,
            "align_self": null,
            "border": null,
            "bottom": null,
            "display": null,
            "flex": null,
            "flex_flow": null,
            "grid_area": null,
            "grid_auto_columns": null,
            "grid_auto_flow": null,
            "grid_auto_rows": null,
            "grid_column": null,
            "grid_gap": null,
            "grid_row": null,
            "grid_template_areas": null,
            "grid_template_columns": null,
            "grid_template_rows": null,
            "height": null,
            "justify_content": null,
            "justify_items": null,
            "left": null,
            "margin": null,
            "max_height": null,
            "max_width": null,
            "min_height": null,
            "min_width": null,
            "object_fit": null,
            "object_position": null,
            "order": null,
            "overflow": null,
            "overflow_x": null,
            "overflow_y": null,
            "padding": null,
            "right": null,
            "top": null,
            "visibility": null,
            "width": null
          }
        },
        "70ed68dd1b3d429fbb4cf287e004dfbf": {
          "model_module": "@jupyter-widgets/controls",
          "model_name": "DescriptionStyleModel",
          "model_module_version": "1.5.0",
          "state": {
            "_model_module": "@jupyter-widgets/controls",
            "_model_module_version": "1.5.0",
            "_model_name": "DescriptionStyleModel",
            "_view_count": null,
            "_view_module": "@jupyter-widgets/base",
            "_view_module_version": "1.2.0",
            "_view_name": "StyleView",
            "description_width": ""
          }
        },
        "baeb184c68ce4f1db720463b39170a20": {
          "model_module": "@jupyter-widgets/controls",
          "model_name": "HBoxModel",
          "model_module_version": "1.5.0",
          "state": {
            "_dom_classes": [],
            "_model_module": "@jupyter-widgets/controls",
            "_model_module_version": "1.5.0",
            "_model_name": "HBoxModel",
            "_view_count": null,
            "_view_module": "@jupyter-widgets/controls",
            "_view_module_version": "1.5.0",
            "_view_name": "HBoxView",
            "box_style": "",
            "children": [
              "IPY_MODEL_a7bd62545ef94d1786e84dfa51a62a37",
              "IPY_MODEL_67aa1970ebb04cff949a2846afbed9c4",
              "IPY_MODEL_cc21059ed01a4f8ca0df6628ebfd0651"
            ],
            "layout": "IPY_MODEL_13658bd3739049308152780b6934643d"
          }
        },
        "a7bd62545ef94d1786e84dfa51a62a37": {
          "model_module": "@jupyter-widgets/controls",
          "model_name": "HTMLModel",
          "model_module_version": "1.5.0",
          "state": {
            "_dom_classes": [],
            "_model_module": "@jupyter-widgets/controls",
            "_model_module_version": "1.5.0",
            "_model_name": "HTMLModel",
            "_view_count": null,
            "_view_module": "@jupyter-widgets/controls",
            "_view_module_version": "1.5.0",
            "_view_name": "HTMLView",
            "description": "",
            "description_tooltip": null,
            "layout": "IPY_MODEL_ad8e7e9df62e4107bd78827186350215",
            "placeholder": "​",
            "style": "IPY_MODEL_474e3c6eeb564681918cb075ea10f4c9",
            "value": "config.json: 100%"
          }
        },
        "67aa1970ebb04cff949a2846afbed9c4": {
          "model_module": "@jupyter-widgets/controls",
          "model_name": "FloatProgressModel",
          "model_module_version": "1.5.0",
          "state": {
            "_dom_classes": [],
            "_model_module": "@jupyter-widgets/controls",
            "_model_module_version": "1.5.0",
            "_model_name": "FloatProgressModel",
            "_view_count": null,
            "_view_module": "@jupyter-widgets/controls",
            "_view_module_version": "1.5.0",
            "_view_name": "ProgressView",
            "bar_style": "success",
            "description": "",
            "description_tooltip": null,
            "layout": "IPY_MODEL_069b85277bba465f933c8320ed2b692f",
            "max": 650,
            "min": 0,
            "orientation": "horizontal",
            "style": "IPY_MODEL_9755bb89a9484524a960e835d80415d7",
            "value": 650
          }
        },
        "cc21059ed01a4f8ca0df6628ebfd0651": {
          "model_module": "@jupyter-widgets/controls",
          "model_name": "HTMLModel",
          "model_module_version": "1.5.0",
          "state": {
            "_dom_classes": [],
            "_model_module": "@jupyter-widgets/controls",
            "_model_module_version": "1.5.0",
            "_model_name": "HTMLModel",
            "_view_count": null,
            "_view_module": "@jupyter-widgets/controls",
            "_view_module_version": "1.5.0",
            "_view_name": "HTMLView",
            "description": "",
            "description_tooltip": null,
            "layout": "IPY_MODEL_7e1e951443624dd4b7fd8a1468144778",
            "placeholder": "​",
            "style": "IPY_MODEL_f8bc7098374748c699d6ac56cf60b6f7",
            "value": " 650/650 [00:00&lt;00:00, 12.2kB/s]"
          }
        },
        "13658bd3739049308152780b6934643d": {
          "model_module": "@jupyter-widgets/base",
          "model_name": "LayoutModel",
          "model_module_version": "1.2.0",
          "state": {
            "_model_module": "@jupyter-widgets/base",
            "_model_module_version": "1.2.0",
            "_model_name": "LayoutModel",
            "_view_count": null,
            "_view_module": "@jupyter-widgets/base",
            "_view_module_version": "1.2.0",
            "_view_name": "LayoutView",
            "align_content": null,
            "align_items": null,
            "align_self": null,
            "border": null,
            "bottom": null,
            "display": null,
            "flex": null,
            "flex_flow": null,
            "grid_area": null,
            "grid_auto_columns": null,
            "grid_auto_flow": null,
            "grid_auto_rows": null,
            "grid_column": null,
            "grid_gap": null,
            "grid_row": null,
            "grid_template_areas": null,
            "grid_template_columns": null,
            "grid_template_rows": null,
            "height": null,
            "justify_content": null,
            "justify_items": null,
            "left": null,
            "margin": null,
            "max_height": null,
            "max_width": null,
            "min_height": null,
            "min_width": null,
            "object_fit": null,
            "object_position": null,
            "order": null,
            "overflow": null,
            "overflow_x": null,
            "overflow_y": null,
            "padding": null,
            "right": null,
            "top": null,
            "visibility": null,
            "width": null
          }
        },
        "ad8e7e9df62e4107bd78827186350215": {
          "model_module": "@jupyter-widgets/base",
          "model_name": "LayoutModel",
          "model_module_version": "1.2.0",
          "state": {
            "_model_module": "@jupyter-widgets/base",
            "_model_module_version": "1.2.0",
            "_model_name": "LayoutModel",
            "_view_count": null,
            "_view_module": "@jupyter-widgets/base",
            "_view_module_version": "1.2.0",
            "_view_name": "LayoutView",
            "align_content": null,
            "align_items": null,
            "align_self": null,
            "border": null,
            "bottom": null,
            "display": null,
            "flex": null,
            "flex_flow": null,
            "grid_area": null,
            "grid_auto_columns": null,
            "grid_auto_flow": null,
            "grid_auto_rows": null,
            "grid_column": null,
            "grid_gap": null,
            "grid_row": null,
            "grid_template_areas": null,
            "grid_template_columns": null,
            "grid_template_rows": null,
            "height": null,
            "justify_content": null,
            "justify_items": null,
            "left": null,
            "margin": null,
            "max_height": null,
            "max_width": null,
            "min_height": null,
            "min_width": null,
            "object_fit": null,
            "object_position": null,
            "order": null,
            "overflow": null,
            "overflow_x": null,
            "overflow_y": null,
            "padding": null,
            "right": null,
            "top": null,
            "visibility": null,
            "width": null
          }
        },
        "474e3c6eeb564681918cb075ea10f4c9": {
          "model_module": "@jupyter-widgets/controls",
          "model_name": "DescriptionStyleModel",
          "model_module_version": "1.5.0",
          "state": {
            "_model_module": "@jupyter-widgets/controls",
            "_model_module_version": "1.5.0",
            "_model_name": "DescriptionStyleModel",
            "_view_count": null,
            "_view_module": "@jupyter-widgets/base",
            "_view_module_version": "1.2.0",
            "_view_name": "StyleView",
            "description_width": ""
          }
        },
        "069b85277bba465f933c8320ed2b692f": {
          "model_module": "@jupyter-widgets/base",
          "model_name": "LayoutModel",
          "model_module_version": "1.2.0",
          "state": {
            "_model_module": "@jupyter-widgets/base",
            "_model_module_version": "1.2.0",
            "_model_name": "LayoutModel",
            "_view_count": null,
            "_view_module": "@jupyter-widgets/base",
            "_view_module_version": "1.2.0",
            "_view_name": "LayoutView",
            "align_content": null,
            "align_items": null,
            "align_self": null,
            "border": null,
            "bottom": null,
            "display": null,
            "flex": null,
            "flex_flow": null,
            "grid_area": null,
            "grid_auto_columns": null,
            "grid_auto_flow": null,
            "grid_auto_rows": null,
            "grid_column": null,
            "grid_gap": null,
            "grid_row": null,
            "grid_template_areas": null,
            "grid_template_columns": null,
            "grid_template_rows": null,
            "height": null,
            "justify_content": null,
            "justify_items": null,
            "left": null,
            "margin": null,
            "max_height": null,
            "max_width": null,
            "min_height": null,
            "min_width": null,
            "object_fit": null,
            "object_position": null,
            "order": null,
            "overflow": null,
            "overflow_x": null,
            "overflow_y": null,
            "padding": null,
            "right": null,
            "top": null,
            "visibility": null,
            "width": null
          }
        },
        "9755bb89a9484524a960e835d80415d7": {
          "model_module": "@jupyter-widgets/controls",
          "model_name": "ProgressStyleModel",
          "model_module_version": "1.5.0",
          "state": {
            "_model_module": "@jupyter-widgets/controls",
            "_model_module_version": "1.5.0",
            "_model_name": "ProgressStyleModel",
            "_view_count": null,
            "_view_module": "@jupyter-widgets/base",
            "_view_module_version": "1.2.0",
            "_view_name": "StyleView",
            "bar_color": null,
            "description_width": ""
          }
        },
        "7e1e951443624dd4b7fd8a1468144778": {
          "model_module": "@jupyter-widgets/base",
          "model_name": "LayoutModel",
          "model_module_version": "1.2.0",
          "state": {
            "_model_module": "@jupyter-widgets/base",
            "_model_module_version": "1.2.0",
            "_model_name": "LayoutModel",
            "_view_count": null,
            "_view_module": "@jupyter-widgets/base",
            "_view_module_version": "1.2.0",
            "_view_name": "LayoutView",
            "align_content": null,
            "align_items": null,
            "align_self": null,
            "border": null,
            "bottom": null,
            "display": null,
            "flex": null,
            "flex_flow": null,
            "grid_area": null,
            "grid_auto_columns": null,
            "grid_auto_flow": null,
            "grid_auto_rows": null,
            "grid_column": null,
            "grid_gap": null,
            "grid_row": null,
            "grid_template_areas": null,
            "grid_template_columns": null,
            "grid_template_rows": null,
            "height": null,
            "justify_content": null,
            "justify_items": null,
            "left": null,
            "margin": null,
            "max_height": null,
            "max_width": null,
            "min_height": null,
            "min_width": null,
            "object_fit": null,
            "object_position": null,
            "order": null,
            "overflow": null,
            "overflow_x": null,
            "overflow_y": null,
            "padding": null,
            "right": null,
            "top": null,
            "visibility": null,
            "width": null
          }
        },
        "f8bc7098374748c699d6ac56cf60b6f7": {
          "model_module": "@jupyter-widgets/controls",
          "model_name": "DescriptionStyleModel",
          "model_module_version": "1.5.0",
          "state": {
            "_model_module": "@jupyter-widgets/controls",
            "_model_module_version": "1.5.0",
            "_model_name": "DescriptionStyleModel",
            "_view_count": null,
            "_view_module": "@jupyter-widgets/base",
            "_view_module_version": "1.2.0",
            "_view_name": "StyleView",
            "description_width": ""
          }
        },
        "ddd7581359fa41dab4a1c5242d5128c6": {
          "model_module": "@jupyter-widgets/controls",
          "model_name": "HBoxModel",
          "model_module_version": "1.5.0",
          "state": {
            "_dom_classes": [],
            "_model_module": "@jupyter-widgets/controls",
            "_model_module_version": "1.5.0",
            "_model_name": "HBoxModel",
            "_view_count": null,
            "_view_module": "@jupyter-widgets/controls",
            "_view_module_version": "1.5.0",
            "_view_name": "HBoxView",
            "box_style": "",
            "children": [
              "IPY_MODEL_73754ad768314751b3578e321ebb6ea1",
              "IPY_MODEL_fda9cbe9ce28430fb636b86aee4a8158",
              "IPY_MODEL_426cef7637794071a7bb76063f6626e8"
            ],
            "layout": "IPY_MODEL_f3f3bc709445419fbc1c9b4a86e2be6b"
          }
        },
        "73754ad768314751b3578e321ebb6ea1": {
          "model_module": "@jupyter-widgets/controls",
          "model_name": "HTMLModel",
          "model_module_version": "1.5.0",
          "state": {
            "_dom_classes": [],
            "_model_module": "@jupyter-widgets/controls",
            "_model_module_version": "1.5.0",
            "_model_name": "HTMLModel",
            "_view_count": null,
            "_view_module": "@jupyter-widgets/controls",
            "_view_module_version": "1.5.0",
            "_view_name": "HTMLView",
            "description": "",
            "description_tooltip": null,
            "layout": "IPY_MODEL_f2d34fd387664280800695aacfa7f6b1",
            "placeholder": "​",
            "style": "IPY_MODEL_897e6b8c896142e989503ea649903574",
            "value": "vocab.txt: 100%"
          }
        },
        "fda9cbe9ce28430fb636b86aee4a8158": {
          "model_module": "@jupyter-widgets/controls",
          "model_name": "FloatProgressModel",
          "model_module_version": "1.5.0",
          "state": {
            "_dom_classes": [],
            "_model_module": "@jupyter-widgets/controls",
            "_model_module_version": "1.5.0",
            "_model_name": "FloatProgressModel",
            "_view_count": null,
            "_view_module": "@jupyter-widgets/controls",
            "_view_module_version": "1.5.0",
            "_view_name": "ProgressView",
            "bar_style": "success",
            "description": "",
            "description_tooltip": null,
            "layout": "IPY_MODEL_b642a623c13c4732a3e84cb4cf9d0bac",
            "max": 247723,
            "min": 0,
            "orientation": "horizontal",
            "style": "IPY_MODEL_4755ecfa4e23408b9bc6b9c1729bf2da",
            "value": 247723
          }
        },
        "426cef7637794071a7bb76063f6626e8": {
          "model_module": "@jupyter-widgets/controls",
          "model_name": "HTMLModel",
          "model_module_version": "1.5.0",
          "state": {
            "_dom_classes": [],
            "_model_module": "@jupyter-widgets/controls",
            "_model_module_version": "1.5.0",
            "_model_name": "HTMLModel",
            "_view_count": null,
            "_view_module": "@jupyter-widgets/controls",
            "_view_module_version": "1.5.0",
            "_view_name": "HTMLView",
            "description": "",
            "description_tooltip": null,
            "layout": "IPY_MODEL_107c20d8ad404393b3fec549df6983ad",
            "placeholder": "​",
            "style": "IPY_MODEL_10192ea994a14972b3c0261c1151848b",
            "value": " 248k/248k [00:00&lt;00:00, 3.93MB/s]"
          }
        },
        "f3f3bc709445419fbc1c9b4a86e2be6b": {
          "model_module": "@jupyter-widgets/base",
          "model_name": "LayoutModel",
          "model_module_version": "1.2.0",
          "state": {
            "_model_module": "@jupyter-widgets/base",
            "_model_module_version": "1.2.0",
            "_model_name": "LayoutModel",
            "_view_count": null,
            "_view_module": "@jupyter-widgets/base",
            "_view_module_version": "1.2.0",
            "_view_name": "LayoutView",
            "align_content": null,
            "align_items": null,
            "align_self": null,
            "border": null,
            "bottom": null,
            "display": null,
            "flex": null,
            "flex_flow": null,
            "grid_area": null,
            "grid_auto_columns": null,
            "grid_auto_flow": null,
            "grid_auto_rows": null,
            "grid_column": null,
            "grid_gap": null,
            "grid_row": null,
            "grid_template_areas": null,
            "grid_template_columns": null,
            "grid_template_rows": null,
            "height": null,
            "justify_content": null,
            "justify_items": null,
            "left": null,
            "margin": null,
            "max_height": null,
            "max_width": null,
            "min_height": null,
            "min_width": null,
            "object_fit": null,
            "object_position": null,
            "order": null,
            "overflow": null,
            "overflow_x": null,
            "overflow_y": null,
            "padding": null,
            "right": null,
            "top": null,
            "visibility": null,
            "width": null
          }
        },
        "f2d34fd387664280800695aacfa7f6b1": {
          "model_module": "@jupyter-widgets/base",
          "model_name": "LayoutModel",
          "model_module_version": "1.2.0",
          "state": {
            "_model_module": "@jupyter-widgets/base",
            "_model_module_version": "1.2.0",
            "_model_name": "LayoutModel",
            "_view_count": null,
            "_view_module": "@jupyter-widgets/base",
            "_view_module_version": "1.2.0",
            "_view_name": "LayoutView",
            "align_content": null,
            "align_items": null,
            "align_self": null,
            "border": null,
            "bottom": null,
            "display": null,
            "flex": null,
            "flex_flow": null,
            "grid_area": null,
            "grid_auto_columns": null,
            "grid_auto_flow": null,
            "grid_auto_rows": null,
            "grid_column": null,
            "grid_gap": null,
            "grid_row": null,
            "grid_template_areas": null,
            "grid_template_columns": null,
            "grid_template_rows": null,
            "height": null,
            "justify_content": null,
            "justify_items": null,
            "left": null,
            "margin": null,
            "max_height": null,
            "max_width": null,
            "min_height": null,
            "min_width": null,
            "object_fit": null,
            "object_position": null,
            "order": null,
            "overflow": null,
            "overflow_x": null,
            "overflow_y": null,
            "padding": null,
            "right": null,
            "top": null,
            "visibility": null,
            "width": null
          }
        },
        "897e6b8c896142e989503ea649903574": {
          "model_module": "@jupyter-widgets/controls",
          "model_name": "DescriptionStyleModel",
          "model_module_version": "1.5.0",
          "state": {
            "_model_module": "@jupyter-widgets/controls",
            "_model_module_version": "1.5.0",
            "_model_name": "DescriptionStyleModel",
            "_view_count": null,
            "_view_module": "@jupyter-widgets/base",
            "_view_module_version": "1.2.0",
            "_view_name": "StyleView",
            "description_width": ""
          }
        },
        "b642a623c13c4732a3e84cb4cf9d0bac": {
          "model_module": "@jupyter-widgets/base",
          "model_name": "LayoutModel",
          "model_module_version": "1.2.0",
          "state": {
            "_model_module": "@jupyter-widgets/base",
            "_model_module_version": "1.2.0",
            "_model_name": "LayoutModel",
            "_view_count": null,
            "_view_module": "@jupyter-widgets/base",
            "_view_module_version": "1.2.0",
            "_view_name": "LayoutView",
            "align_content": null,
            "align_items": null,
            "align_self": null,
            "border": null,
            "bottom": null,
            "display": null,
            "flex": null,
            "flex_flow": null,
            "grid_area": null,
            "grid_auto_columns": null,
            "grid_auto_flow": null,
            "grid_auto_rows": null,
            "grid_column": null,
            "grid_gap": null,
            "grid_row": null,
            "grid_template_areas": null,
            "grid_template_columns": null,
            "grid_template_rows": null,
            "height": null,
            "justify_content": null,
            "justify_items": null,
            "left": null,
            "margin": null,
            "max_height": null,
            "max_width": null,
            "min_height": null,
            "min_width": null,
            "object_fit": null,
            "object_position": null,
            "order": null,
            "overflow": null,
            "overflow_x": null,
            "overflow_y": null,
            "padding": null,
            "right": null,
            "top": null,
            "visibility": null,
            "width": null
          }
        },
        "4755ecfa4e23408b9bc6b9c1729bf2da": {
          "model_module": "@jupyter-widgets/controls",
          "model_name": "ProgressStyleModel",
          "model_module_version": "1.5.0",
          "state": {
            "_model_module": "@jupyter-widgets/controls",
            "_model_module_version": "1.5.0",
            "_model_name": "ProgressStyleModel",
            "_view_count": null,
            "_view_module": "@jupyter-widgets/base",
            "_view_module_version": "1.2.0",
            "_view_name": "StyleView",
            "bar_color": null,
            "description_width": ""
          }
        },
        "107c20d8ad404393b3fec549df6983ad": {
          "model_module": "@jupyter-widgets/base",
          "model_name": "LayoutModel",
          "model_module_version": "1.2.0",
          "state": {
            "_model_module": "@jupyter-widgets/base",
            "_model_module_version": "1.2.0",
            "_model_name": "LayoutModel",
            "_view_count": null,
            "_view_module": "@jupyter-widgets/base",
            "_view_module_version": "1.2.0",
            "_view_name": "LayoutView",
            "align_content": null,
            "align_items": null,
            "align_self": null,
            "border": null,
            "bottom": null,
            "display": null,
            "flex": null,
            "flex_flow": null,
            "grid_area": null,
            "grid_auto_columns": null,
            "grid_auto_flow": null,
            "grid_auto_rows": null,
            "grid_column": null,
            "grid_gap": null,
            "grid_row": null,
            "grid_template_areas": null,
            "grid_template_columns": null,
            "grid_template_rows": null,
            "height": null,
            "justify_content": null,
            "justify_items": null,
            "left": null,
            "margin": null,
            "max_height": null,
            "max_width": null,
            "min_height": null,
            "min_width": null,
            "object_fit": null,
            "object_position": null,
            "order": null,
            "overflow": null,
            "overflow_x": null,
            "overflow_y": null,
            "padding": null,
            "right": null,
            "top": null,
            "visibility": null,
            "width": null
          }
        },
        "10192ea994a14972b3c0261c1151848b": {
          "model_module": "@jupyter-widgets/controls",
          "model_name": "DescriptionStyleModel",
          "model_module_version": "1.5.0",
          "state": {
            "_model_module": "@jupyter-widgets/controls",
            "_model_module_version": "1.5.0",
            "_model_name": "DescriptionStyleModel",
            "_view_count": null,
            "_view_module": "@jupyter-widgets/base",
            "_view_module_version": "1.2.0",
            "_view_name": "StyleView",
            "description_width": ""
          }
        },
        "46d8459fee28401a8e495c5a56ffd710": {
          "model_module": "@jupyter-widgets/controls",
          "model_name": "HBoxModel",
          "model_module_version": "1.5.0",
          "state": {
            "_dom_classes": [],
            "_model_module": "@jupyter-widgets/controls",
            "_model_module_version": "1.5.0",
            "_model_name": "HBoxModel",
            "_view_count": null,
            "_view_module": "@jupyter-widgets/controls",
            "_view_module_version": "1.5.0",
            "_view_name": "HBoxView",
            "box_style": "",
            "children": [
              "IPY_MODEL_d1157424a0e6484f93620c343fe9c957",
              "IPY_MODEL_485e693611d84659a852dbf1c2624bf4",
              "IPY_MODEL_ee80c7a820804818ad89a68ddae06ced"
            ],
            "layout": "IPY_MODEL_aa1a9f8c9e1f4309868b7cc670a8becc"
          }
        },
        "d1157424a0e6484f93620c343fe9c957": {
          "model_module": "@jupyter-widgets/controls",
          "model_name": "HTMLModel",
          "model_module_version": "1.5.0",
          "state": {
            "_dom_classes": [],
            "_model_module": "@jupyter-widgets/controls",
            "_model_module_version": "1.5.0",
            "_model_name": "HTMLModel",
            "_view_count": null,
            "_view_module": "@jupyter-widgets/controls",
            "_view_module_version": "1.5.0",
            "_view_name": "HTMLView",
            "description": "",
            "description_tooltip": null,
            "layout": "IPY_MODEL_cc3278abb28f48f8a60a878f16328a46",
            "placeholder": "​",
            "style": "IPY_MODEL_d434a1ea898b4d2cab7984a8bd5331ae",
            "value": "tokenizer.json: 100%"
          }
        },
        "485e693611d84659a852dbf1c2624bf4": {
          "model_module": "@jupyter-widgets/controls",
          "model_name": "FloatProgressModel",
          "model_module_version": "1.5.0",
          "state": {
            "_dom_classes": [],
            "_model_module": "@jupyter-widgets/controls",
            "_model_module_version": "1.5.0",
            "_model_name": "FloatProgressModel",
            "_view_count": null,
            "_view_module": "@jupyter-widgets/controls",
            "_view_module_version": "1.5.0",
            "_view_name": "ProgressView",
            "bar_style": "success",
            "description": "",
            "description_tooltip": null,
            "layout": "IPY_MODEL_512f2d7245764635a4627b3b12f1270d",
            "max": 486125,
            "min": 0,
            "orientation": "horizontal",
            "style": "IPY_MODEL_71b7d2d9de5b45b0b54ef0994ebba626",
            "value": 486125
          }
        },
        "ee80c7a820804818ad89a68ddae06ced": {
          "model_module": "@jupyter-widgets/controls",
          "model_name": "HTMLModel",
          "model_module_version": "1.5.0",
          "state": {
            "_dom_classes": [],
            "_model_module": "@jupyter-widgets/controls",
            "_model_module_version": "1.5.0",
            "_model_name": "HTMLModel",
            "_view_count": null,
            "_view_module": "@jupyter-widgets/controls",
            "_view_module_version": "1.5.0",
            "_view_name": "HTMLView",
            "description": "",
            "description_tooltip": null,
            "layout": "IPY_MODEL_38a4556028ac456da4f1865d60791e26",
            "placeholder": "​",
            "style": "IPY_MODEL_c0597e7bc66f479e8ed2f504c12ce40c",
            "value": " 486k/486k [00:00&lt;00:00, 14.2MB/s]"
          }
        },
        "aa1a9f8c9e1f4309868b7cc670a8becc": {
          "model_module": "@jupyter-widgets/base",
          "model_name": "LayoutModel",
          "model_module_version": "1.2.0",
          "state": {
            "_model_module": "@jupyter-widgets/base",
            "_model_module_version": "1.2.0",
            "_model_name": "LayoutModel",
            "_view_count": null,
            "_view_module": "@jupyter-widgets/base",
            "_view_module_version": "1.2.0",
            "_view_name": "LayoutView",
            "align_content": null,
            "align_items": null,
            "align_self": null,
            "border": null,
            "bottom": null,
            "display": null,
            "flex": null,
            "flex_flow": null,
            "grid_area": null,
            "grid_auto_columns": null,
            "grid_auto_flow": null,
            "grid_auto_rows": null,
            "grid_column": null,
            "grid_gap": null,
            "grid_row": null,
            "grid_template_areas": null,
            "grid_template_columns": null,
            "grid_template_rows": null,
            "height": null,
            "justify_content": null,
            "justify_items": null,
            "left": null,
            "margin": null,
            "max_height": null,
            "max_width": null,
            "min_height": null,
            "min_width": null,
            "object_fit": null,
            "object_position": null,
            "order": null,
            "overflow": null,
            "overflow_x": null,
            "overflow_y": null,
            "padding": null,
            "right": null,
            "top": null,
            "visibility": null,
            "width": null
          }
        },
        "cc3278abb28f48f8a60a878f16328a46": {
          "model_module": "@jupyter-widgets/base",
          "model_name": "LayoutModel",
          "model_module_version": "1.2.0",
          "state": {
            "_model_module": "@jupyter-widgets/base",
            "_model_module_version": "1.2.0",
            "_model_name": "LayoutModel",
            "_view_count": null,
            "_view_module": "@jupyter-widgets/base",
            "_view_module_version": "1.2.0",
            "_view_name": "LayoutView",
            "align_content": null,
            "align_items": null,
            "align_self": null,
            "border": null,
            "bottom": null,
            "display": null,
            "flex": null,
            "flex_flow": null,
            "grid_area": null,
            "grid_auto_columns": null,
            "grid_auto_flow": null,
            "grid_auto_rows": null,
            "grid_column": null,
            "grid_gap": null,
            "grid_row": null,
            "grid_template_areas": null,
            "grid_template_columns": null,
            "grid_template_rows": null,
            "height": null,
            "justify_content": null,
            "justify_items": null,
            "left": null,
            "margin": null,
            "max_height": null,
            "max_width": null,
            "min_height": null,
            "min_width": null,
            "object_fit": null,
            "object_position": null,
            "order": null,
            "overflow": null,
            "overflow_x": null,
            "overflow_y": null,
            "padding": null,
            "right": null,
            "top": null,
            "visibility": null,
            "width": null
          }
        },
        "d434a1ea898b4d2cab7984a8bd5331ae": {
          "model_module": "@jupyter-widgets/controls",
          "model_name": "DescriptionStyleModel",
          "model_module_version": "1.5.0",
          "state": {
            "_model_module": "@jupyter-widgets/controls",
            "_model_module_version": "1.5.0",
            "_model_name": "DescriptionStyleModel",
            "_view_count": null,
            "_view_module": "@jupyter-widgets/base",
            "_view_module_version": "1.2.0",
            "_view_name": "StyleView",
            "description_width": ""
          }
        },
        "512f2d7245764635a4627b3b12f1270d": {
          "model_module": "@jupyter-widgets/base",
          "model_name": "LayoutModel",
          "model_module_version": "1.2.0",
          "state": {
            "_model_module": "@jupyter-widgets/base",
            "_model_module_version": "1.2.0",
            "_model_name": "LayoutModel",
            "_view_count": null,
            "_view_module": "@jupyter-widgets/base",
            "_view_module_version": "1.2.0",
            "_view_name": "LayoutView",
            "align_content": null,
            "align_items": null,
            "align_self": null,
            "border": null,
            "bottom": null,
            "display": null,
            "flex": null,
            "flex_flow": null,
            "grid_area": null,
            "grid_auto_columns": null,
            "grid_auto_flow": null,
            "grid_auto_rows": null,
            "grid_column": null,
            "grid_gap": null,
            "grid_row": null,
            "grid_template_areas": null,
            "grid_template_columns": null,
            "grid_template_rows": null,
            "height": null,
            "justify_content": null,
            "justify_items": null,
            "left": null,
            "margin": null,
            "max_height": null,
            "max_width": null,
            "min_height": null,
            "min_width": null,
            "object_fit": null,
            "object_position": null,
            "order": null,
            "overflow": null,
            "overflow_x": null,
            "overflow_y": null,
            "padding": null,
            "right": null,
            "top": null,
            "visibility": null,
            "width": null
          }
        },
        "71b7d2d9de5b45b0b54ef0994ebba626": {
          "model_module": "@jupyter-widgets/controls",
          "model_name": "ProgressStyleModel",
          "model_module_version": "1.5.0",
          "state": {
            "_model_module": "@jupyter-widgets/controls",
            "_model_module_version": "1.5.0",
            "_model_name": "ProgressStyleModel",
            "_view_count": null,
            "_view_module": "@jupyter-widgets/base",
            "_view_module_version": "1.2.0",
            "_view_name": "StyleView",
            "bar_color": null,
            "description_width": ""
          }
        },
        "38a4556028ac456da4f1865d60791e26": {
          "model_module": "@jupyter-widgets/base",
          "model_name": "LayoutModel",
          "model_module_version": "1.2.0",
          "state": {
            "_model_module": "@jupyter-widgets/base",
            "_model_module_version": "1.2.0",
            "_model_name": "LayoutModel",
            "_view_count": null,
            "_view_module": "@jupyter-widgets/base",
            "_view_module_version": "1.2.0",
            "_view_name": "LayoutView",
            "align_content": null,
            "align_items": null,
            "align_self": null,
            "border": null,
            "bottom": null,
            "display": null,
            "flex": null,
            "flex_flow": null,
            "grid_area": null,
            "grid_auto_columns": null,
            "grid_auto_flow": null,
            "grid_auto_rows": null,
            "grid_column": null,
            "grid_gap": null,
            "grid_row": null,
            "grid_template_areas": null,
            "grid_template_columns": null,
            "grid_template_rows": null,
            "height": null,
            "justify_content": null,
            "justify_items": null,
            "left": null,
            "margin": null,
            "max_height": null,
            "max_width": null,
            "min_height": null,
            "min_width": null,
            "object_fit": null,
            "object_position": null,
            "order": null,
            "overflow": null,
            "overflow_x": null,
            "overflow_y": null,
            "padding": null,
            "right": null,
            "top": null,
            "visibility": null,
            "width": null
          }
        },
        "c0597e7bc66f479e8ed2f504c12ce40c": {
          "model_module": "@jupyter-widgets/controls",
          "model_name": "DescriptionStyleModel",
          "model_module_version": "1.5.0",
          "state": {
            "_model_module": "@jupyter-widgets/controls",
            "_model_module_version": "1.5.0",
            "_model_name": "DescriptionStyleModel",
            "_view_count": null,
            "_view_module": "@jupyter-widgets/base",
            "_view_module_version": "1.2.0",
            "_view_name": "StyleView",
            "description_width": ""
          }
        },
        "681ca7462e354f66928e3270d9c90ba3": {
          "model_module": "@jupyter-widgets/controls",
          "model_name": "HBoxModel",
          "model_module_version": "1.5.0",
          "state": {
            "_dom_classes": [],
            "_model_module": "@jupyter-widgets/controls",
            "_model_module_version": "1.5.0",
            "_model_name": "HBoxModel",
            "_view_count": null,
            "_view_module": "@jupyter-widgets/controls",
            "_view_module_version": "1.5.0",
            "_view_name": "HBoxView",
            "box_style": "",
            "children": [
              "IPY_MODEL_e93447be05e64ecd94114cc467030e28",
              "IPY_MODEL_249f90430ac447d98fdcbf8cadd2f625",
              "IPY_MODEL_94c28a41591441329d9a5e89b863cb61"
            ],
            "layout": "IPY_MODEL_ffa926a180a24adf9d345c1ec7007919"
          }
        },
        "e93447be05e64ecd94114cc467030e28": {
          "model_module": "@jupyter-widgets/controls",
          "model_name": "HTMLModel",
          "model_module_version": "1.5.0",
          "state": {
            "_dom_classes": [],
            "_model_module": "@jupyter-widgets/controls",
            "_model_module_version": "1.5.0",
            "_model_name": "HTMLModel",
            "_view_count": null,
            "_view_module": "@jupyter-widgets/controls",
            "_view_module_version": "1.5.0",
            "_view_name": "HTMLView",
            "description": "",
            "description_tooltip": null,
            "layout": "IPY_MODEL_4927740a81bd4b168af8077c080b38dd",
            "placeholder": "​",
            "style": "IPY_MODEL_52e5c18ef21b4c16ae5359ae0a118c36",
            "value": "special_tokens_map.json: 100%"
          }
        },
        "249f90430ac447d98fdcbf8cadd2f625": {
          "model_module": "@jupyter-widgets/controls",
          "model_name": "FloatProgressModel",
          "model_module_version": "1.5.0",
          "state": {
            "_dom_classes": [],
            "_model_module": "@jupyter-widgets/controls",
            "_model_module_version": "1.5.0",
            "_model_name": "FloatProgressModel",
            "_view_count": null,
            "_view_module": "@jupyter-widgets/controls",
            "_view_module_version": "1.5.0",
            "_view_name": "ProgressView",
            "bar_style": "success",
            "description": "",
            "description_tooltip": null,
            "layout": "IPY_MODEL_d0855be9ff2b46caa0c4a7ea81691ca8",
            "max": 134,
            "min": 0,
            "orientation": "horizontal",
            "style": "IPY_MODEL_d6976b1ece084edd9be6ef2a4ab56c1a",
            "value": 134
          }
        },
        "94c28a41591441329d9a5e89b863cb61": {
          "model_module": "@jupyter-widgets/controls",
          "model_name": "HTMLModel",
          "model_module_version": "1.5.0",
          "state": {
            "_dom_classes": [],
            "_model_module": "@jupyter-widgets/controls",
            "_model_module_version": "1.5.0",
            "_model_name": "HTMLModel",
            "_view_count": null,
            "_view_module": "@jupyter-widgets/controls",
            "_view_module_version": "1.5.0",
            "_view_name": "HTMLView",
            "description": "",
            "description_tooltip": null,
            "layout": "IPY_MODEL_916f92d2a2db4371a31411950968557b",
            "placeholder": "​",
            "style": "IPY_MODEL_7d02d1a30a6c4eb1aa2a2bb3087e7957",
            "value": " 134/134 [00:00&lt;00:00, 2.46kB/s]"
          }
        },
        "ffa926a180a24adf9d345c1ec7007919": {
          "model_module": "@jupyter-widgets/base",
          "model_name": "LayoutModel",
          "model_module_version": "1.2.0",
          "state": {
            "_model_module": "@jupyter-widgets/base",
            "_model_module_version": "1.2.0",
            "_model_name": "LayoutModel",
            "_view_count": null,
            "_view_module": "@jupyter-widgets/base",
            "_view_module_version": "1.2.0",
            "_view_name": "LayoutView",
            "align_content": null,
            "align_items": null,
            "align_self": null,
            "border": null,
            "bottom": null,
            "display": null,
            "flex": null,
            "flex_flow": null,
            "grid_area": null,
            "grid_auto_columns": null,
            "grid_auto_flow": null,
            "grid_auto_rows": null,
            "grid_column": null,
            "grid_gap": null,
            "grid_row": null,
            "grid_template_areas": null,
            "grid_template_columns": null,
            "grid_template_rows": null,
            "height": null,
            "justify_content": null,
            "justify_items": null,
            "left": null,
            "margin": null,
            "max_height": null,
            "max_width": null,
            "min_height": null,
            "min_width": null,
            "object_fit": null,
            "object_position": null,
            "order": null,
            "overflow": null,
            "overflow_x": null,
            "overflow_y": null,
            "padding": null,
            "right": null,
            "top": null,
            "visibility": null,
            "width": null
          }
        },
        "4927740a81bd4b168af8077c080b38dd": {
          "model_module": "@jupyter-widgets/base",
          "model_name": "LayoutModel",
          "model_module_version": "1.2.0",
          "state": {
            "_model_module": "@jupyter-widgets/base",
            "_model_module_version": "1.2.0",
            "_model_name": "LayoutModel",
            "_view_count": null,
            "_view_module": "@jupyter-widgets/base",
            "_view_module_version": "1.2.0",
            "_view_name": "LayoutView",
            "align_content": null,
            "align_items": null,
            "align_self": null,
            "border": null,
            "bottom": null,
            "display": null,
            "flex": null,
            "flex_flow": null,
            "grid_area": null,
            "grid_auto_columns": null,
            "grid_auto_flow": null,
            "grid_auto_rows": null,
            "grid_column": null,
            "grid_gap": null,
            "grid_row": null,
            "grid_template_areas": null,
            "grid_template_columns": null,
            "grid_template_rows": null,
            "height": null,
            "justify_content": null,
            "justify_items": null,
            "left": null,
            "margin": null,
            "max_height": null,
            "max_width": null,
            "min_height": null,
            "min_width": null,
            "object_fit": null,
            "object_position": null,
            "order": null,
            "overflow": null,
            "overflow_x": null,
            "overflow_y": null,
            "padding": null,
            "right": null,
            "top": null,
            "visibility": null,
            "width": null
          }
        },
        "52e5c18ef21b4c16ae5359ae0a118c36": {
          "model_module": "@jupyter-widgets/controls",
          "model_name": "DescriptionStyleModel",
          "model_module_version": "1.5.0",
          "state": {
            "_model_module": "@jupyter-widgets/controls",
            "_model_module_version": "1.5.0",
            "_model_name": "DescriptionStyleModel",
            "_view_count": null,
            "_view_module": "@jupyter-widgets/base",
            "_view_module_version": "1.2.0",
            "_view_name": "StyleView",
            "description_width": ""
          }
        },
        "d0855be9ff2b46caa0c4a7ea81691ca8": {
          "model_module": "@jupyter-widgets/base",
          "model_name": "LayoutModel",
          "model_module_version": "1.2.0",
          "state": {
            "_model_module": "@jupyter-widgets/base",
            "_model_module_version": "1.2.0",
            "_model_name": "LayoutModel",
            "_view_count": null,
            "_view_module": "@jupyter-widgets/base",
            "_view_module_version": "1.2.0",
            "_view_name": "LayoutView",
            "align_content": null,
            "align_items": null,
            "align_self": null,
            "border": null,
            "bottom": null,
            "display": null,
            "flex": null,
            "flex_flow": null,
            "grid_area": null,
            "grid_auto_columns": null,
            "grid_auto_flow": null,
            "grid_auto_rows": null,
            "grid_column": null,
            "grid_gap": null,
            "grid_row": null,
            "grid_template_areas": null,
            "grid_template_columns": null,
            "grid_template_rows": null,
            "height": null,
            "justify_content": null,
            "justify_items": null,
            "left": null,
            "margin": null,
            "max_height": null,
            "max_width": null,
            "min_height": null,
            "min_width": null,
            "object_fit": null,
            "object_position": null,
            "order": null,
            "overflow": null,
            "overflow_x": null,
            "overflow_y": null,
            "padding": null,
            "right": null,
            "top": null,
            "visibility": null,
            "width": null
          }
        },
        "d6976b1ece084edd9be6ef2a4ab56c1a": {
          "model_module": "@jupyter-widgets/controls",
          "model_name": "ProgressStyleModel",
          "model_module_version": "1.5.0",
          "state": {
            "_model_module": "@jupyter-widgets/controls",
            "_model_module_version": "1.5.0",
            "_model_name": "ProgressStyleModel",
            "_view_count": null,
            "_view_module": "@jupyter-widgets/base",
            "_view_module_version": "1.2.0",
            "_view_name": "StyleView",
            "bar_color": null,
            "description_width": ""
          }
        },
        "916f92d2a2db4371a31411950968557b": {
          "model_module": "@jupyter-widgets/base",
          "model_name": "LayoutModel",
          "model_module_version": "1.2.0",
          "state": {
            "_model_module": "@jupyter-widgets/base",
            "_model_module_version": "1.2.0",
            "_model_name": "LayoutModel",
            "_view_count": null,
            "_view_module": "@jupyter-widgets/base",
            "_view_module_version": "1.2.0",
            "_view_name": "LayoutView",
            "align_content": null,
            "align_items": null,
            "align_self": null,
            "border": null,
            "bottom": null,
            "display": null,
            "flex": null,
            "flex_flow": null,
            "grid_area": null,
            "grid_auto_columns": null,
            "grid_auto_flow": null,
            "grid_auto_rows": null,
            "grid_column": null,
            "grid_gap": null,
            "grid_row": null,
            "grid_template_areas": null,
            "grid_template_columns": null,
            "grid_template_rows": null,
            "height": null,
            "justify_content": null,
            "justify_items": null,
            "left": null,
            "margin": null,
            "max_height": null,
            "max_width": null,
            "min_height": null,
            "min_width": null,
            "object_fit": null,
            "object_position": null,
            "order": null,
            "overflow": null,
            "overflow_x": null,
            "overflow_y": null,
            "padding": null,
            "right": null,
            "top": null,
            "visibility": null,
            "width": null
          }
        },
        "7d02d1a30a6c4eb1aa2a2bb3087e7957": {
          "model_module": "@jupyter-widgets/controls",
          "model_name": "DescriptionStyleModel",
          "model_module_version": "1.5.0",
          "state": {
            "_model_module": "@jupyter-widgets/controls",
            "_model_module_version": "1.5.0",
            "_model_name": "DescriptionStyleModel",
            "_view_count": null,
            "_view_module": "@jupyter-widgets/base",
            "_view_module_version": "1.2.0",
            "_view_name": "StyleView",
            "description_width": ""
          }
        },
        "d568905251fe4f6a8166bc6d8dabd6ae": {
          "model_module": "@jupyter-widgets/controls",
          "model_name": "HBoxModel",
          "model_module_version": "1.5.0",
          "state": {
            "_dom_classes": [],
            "_model_module": "@jupyter-widgets/controls",
            "_model_module_version": "1.5.0",
            "_model_name": "HBoxModel",
            "_view_count": null,
            "_view_module": "@jupyter-widgets/controls",
            "_view_module_version": "1.5.0",
            "_view_name": "HBoxView",
            "box_style": "",
            "children": [
              "IPY_MODEL_deb58c98e2c3460396961621555e44ce",
              "IPY_MODEL_60390edda2954c298a4df165bac434d0",
              "IPY_MODEL_bf2b50d1367d4be6b78d3285465346b3"
            ],
            "layout": "IPY_MODEL_993289bb6ab74de39588322319cd8e68"
          }
        },
        "deb58c98e2c3460396961621555e44ce": {
          "model_module": "@jupyter-widgets/controls",
          "model_name": "HTMLModel",
          "model_module_version": "1.5.0",
          "state": {
            "_dom_classes": [],
            "_model_module": "@jupyter-widgets/controls",
            "_model_module_version": "1.5.0",
            "_model_name": "HTMLModel",
            "_view_count": null,
            "_view_module": "@jupyter-widgets/controls",
            "_view_module_version": "1.5.0",
            "_view_name": "HTMLView",
            "description": "",
            "description_tooltip": null,
            "layout": "IPY_MODEL_66dc4132c01a4693bfd20d7f792cdc28",
            "placeholder": "​",
            "style": "IPY_MODEL_2336d78443dd41d3942d49183aa7ef22",
            "value": "pytorch_model.bin: 100%"
          }
        },
        "60390edda2954c298a4df165bac434d0": {
          "model_module": "@jupyter-widgets/controls",
          "model_name": "FloatProgressModel",
          "model_module_version": "1.5.0",
          "state": {
            "_dom_classes": [],
            "_model_module": "@jupyter-widgets/controls",
            "_model_module_version": "1.5.0",
            "_model_name": "FloatProgressModel",
            "_view_count": null,
            "_view_module": "@jupyter-widgets/controls",
            "_view_module_version": "1.5.0",
            "_view_name": "ProgressView",
            "bar_style": "success",
            "description": "",
            "description_tooltip": null,
            "layout": "IPY_MODEL_d1afd9b8378d4945bc53c8c000616c64",
            "max": 439621341,
            "min": 0,
            "orientation": "horizontal",
            "style": "IPY_MODEL_979357b877cd41cb830dc60882f59c98",
            "value": 439621341
          }
        },
        "bf2b50d1367d4be6b78d3285465346b3": {
          "model_module": "@jupyter-widgets/controls",
          "model_name": "HTMLModel",
          "model_module_version": "1.5.0",
          "state": {
            "_dom_classes": [],
            "_model_module": "@jupyter-widgets/controls",
            "_model_module_version": "1.5.0",
            "_model_name": "HTMLModel",
            "_view_count": null,
            "_view_module": "@jupyter-widgets/controls",
            "_view_module_version": "1.5.0",
            "_view_name": "HTMLView",
            "description": "",
            "description_tooltip": null,
            "layout": "IPY_MODEL_0d0f01a336de4c5bb7a8f2c78098b67c",
            "placeholder": "​",
            "style": "IPY_MODEL_e0d40cac1f61402bbfdaa35288803d0e",
            "value": " 440M/440M [00:07&lt;00:00, 55.3MB/s]"
          }
        },
        "993289bb6ab74de39588322319cd8e68": {
          "model_module": "@jupyter-widgets/base",
          "model_name": "LayoutModel",
          "model_module_version": "1.2.0",
          "state": {
            "_model_module": "@jupyter-widgets/base",
            "_model_module_version": "1.2.0",
            "_model_name": "LayoutModel",
            "_view_count": null,
            "_view_module": "@jupyter-widgets/base",
            "_view_module_version": "1.2.0",
            "_view_name": "LayoutView",
            "align_content": null,
            "align_items": null,
            "align_self": null,
            "border": null,
            "bottom": null,
            "display": null,
            "flex": null,
            "flex_flow": null,
            "grid_area": null,
            "grid_auto_columns": null,
            "grid_auto_flow": null,
            "grid_auto_rows": null,
            "grid_column": null,
            "grid_gap": null,
            "grid_row": null,
            "grid_template_areas": null,
            "grid_template_columns": null,
            "grid_template_rows": null,
            "height": null,
            "justify_content": null,
            "justify_items": null,
            "left": null,
            "margin": null,
            "max_height": null,
            "max_width": null,
            "min_height": null,
            "min_width": null,
            "object_fit": null,
            "object_position": null,
            "order": null,
            "overflow": null,
            "overflow_x": null,
            "overflow_y": null,
            "padding": null,
            "right": null,
            "top": null,
            "visibility": null,
            "width": null
          }
        },
        "66dc4132c01a4693bfd20d7f792cdc28": {
          "model_module": "@jupyter-widgets/base",
          "model_name": "LayoutModel",
          "model_module_version": "1.2.0",
          "state": {
            "_model_module": "@jupyter-widgets/base",
            "_model_module_version": "1.2.0",
            "_model_name": "LayoutModel",
            "_view_count": null,
            "_view_module": "@jupyter-widgets/base",
            "_view_module_version": "1.2.0",
            "_view_name": "LayoutView",
            "align_content": null,
            "align_items": null,
            "align_self": null,
            "border": null,
            "bottom": null,
            "display": null,
            "flex": null,
            "flex_flow": null,
            "grid_area": null,
            "grid_auto_columns": null,
            "grid_auto_flow": null,
            "grid_auto_rows": null,
            "grid_column": null,
            "grid_gap": null,
            "grid_row": null,
            "grid_template_areas": null,
            "grid_template_columns": null,
            "grid_template_rows": null,
            "height": null,
            "justify_content": null,
            "justify_items": null,
            "left": null,
            "margin": null,
            "max_height": null,
            "max_width": null,
            "min_height": null,
            "min_width": null,
            "object_fit": null,
            "object_position": null,
            "order": null,
            "overflow": null,
            "overflow_x": null,
            "overflow_y": null,
            "padding": null,
            "right": null,
            "top": null,
            "visibility": null,
            "width": null
          }
        },
        "2336d78443dd41d3942d49183aa7ef22": {
          "model_module": "@jupyter-widgets/controls",
          "model_name": "DescriptionStyleModel",
          "model_module_version": "1.5.0",
          "state": {
            "_model_module": "@jupyter-widgets/controls",
            "_model_module_version": "1.5.0",
            "_model_name": "DescriptionStyleModel",
            "_view_count": null,
            "_view_module": "@jupyter-widgets/base",
            "_view_module_version": "1.2.0",
            "_view_name": "StyleView",
            "description_width": ""
          }
        },
        "d1afd9b8378d4945bc53c8c000616c64": {
          "model_module": "@jupyter-widgets/base",
          "model_name": "LayoutModel",
          "model_module_version": "1.2.0",
          "state": {
            "_model_module": "@jupyter-widgets/base",
            "_model_module_version": "1.2.0",
            "_model_name": "LayoutModel",
            "_view_count": null,
            "_view_module": "@jupyter-widgets/base",
            "_view_module_version": "1.2.0",
            "_view_name": "LayoutView",
            "align_content": null,
            "align_items": null,
            "align_self": null,
            "border": null,
            "bottom": null,
            "display": null,
            "flex": null,
            "flex_flow": null,
            "grid_area": null,
            "grid_auto_columns": null,
            "grid_auto_flow": null,
            "grid_auto_rows": null,
            "grid_column": null,
            "grid_gap": null,
            "grid_row": null,
            "grid_template_areas": null,
            "grid_template_columns": null,
            "grid_template_rows": null,
            "height": null,
            "justify_content": null,
            "justify_items": null,
            "left": null,
            "margin": null,
            "max_height": null,
            "max_width": null,
            "min_height": null,
            "min_width": null,
            "object_fit": null,
            "object_position": null,
            "order": null,
            "overflow": null,
            "overflow_x": null,
            "overflow_y": null,
            "padding": null,
            "right": null,
            "top": null,
            "visibility": null,
            "width": null
          }
        },
        "979357b877cd41cb830dc60882f59c98": {
          "model_module": "@jupyter-widgets/controls",
          "model_name": "ProgressStyleModel",
          "model_module_version": "1.5.0",
          "state": {
            "_model_module": "@jupyter-widgets/controls",
            "_model_module_version": "1.5.0",
            "_model_name": "ProgressStyleModel",
            "_view_count": null,
            "_view_module": "@jupyter-widgets/base",
            "_view_module_version": "1.2.0",
            "_view_name": "StyleView",
            "bar_color": null,
            "description_width": ""
          }
        },
        "0d0f01a336de4c5bb7a8f2c78098b67c": {
          "model_module": "@jupyter-widgets/base",
          "model_name": "LayoutModel",
          "model_module_version": "1.2.0",
          "state": {
            "_model_module": "@jupyter-widgets/base",
            "_model_module_version": "1.2.0",
            "_model_name": "LayoutModel",
            "_view_count": null,
            "_view_module": "@jupyter-widgets/base",
            "_view_module_version": "1.2.0",
            "_view_name": "LayoutView",
            "align_content": null,
            "align_items": null,
            "align_self": null,
            "border": null,
            "bottom": null,
            "display": null,
            "flex": null,
            "flex_flow": null,
            "grid_area": null,
            "grid_auto_columns": null,
            "grid_auto_flow": null,
            "grid_auto_rows": null,
            "grid_column": null,
            "grid_gap": null,
            "grid_row": null,
            "grid_template_areas": null,
            "grid_template_columns": null,
            "grid_template_rows": null,
            "height": null,
            "justify_content": null,
            "justify_items": null,
            "left": null,
            "margin": null,
            "max_height": null,
            "max_width": null,
            "min_height": null,
            "min_width": null,
            "object_fit": null,
            "object_position": null,
            "order": null,
            "overflow": null,
            "overflow_x": null,
            "overflow_y": null,
            "padding": null,
            "right": null,
            "top": null,
            "visibility": null,
            "width": null
          }
        },
        "e0d40cac1f61402bbfdaa35288803d0e": {
          "model_module": "@jupyter-widgets/controls",
          "model_name": "DescriptionStyleModel",
          "model_module_version": "1.5.0",
          "state": {
            "_model_module": "@jupyter-widgets/controls",
            "_model_module_version": "1.5.0",
            "_model_name": "DescriptionStyleModel",
            "_view_count": null,
            "_view_module": "@jupyter-widgets/base",
            "_view_module_version": "1.2.0",
            "_view_name": "StyleView",
            "description_width": ""
          }
        }
      }
    }
  },
  "cells": [
    {
      "cell_type": "code",
      "execution_count": null,
      "metadata": {
        "id": "Dn73GhjXzxz9"
      },
      "outputs": [],
      "source": [
        "import pandas as pd\n",
        "df = pd.read_excel('/content/DatosModeloElizabeta.xlsx')"
      ]
    },
    {
      "cell_type": "code",
      "source": [
        "print(df.dtypes)"
      ],
      "metadata": {
        "colab": {
          "base_uri": "https://localhost:8080/"
        },
        "id": "FkOd-XLP0Ast",
        "outputId": "6d694e29-deeb-4db2-d818-d8c0e9f314be"
      },
      "execution_count": null,
      "outputs": [
        {
          "output_type": "stream",
          "name": "stdout",
          "text": [
            "Nombre del archivo                 object\n",
            "ID                                 object\n",
            "NER_personas                       object\n",
            "NER-Organizaciones                 object\n",
            "NER Fechas                         object\n",
            "Hechos                             object\n",
            "Pretensiones                       object\n",
            "Consideraciones 1                  object\n",
            "Consideraciones 2                  object\n",
            "Consideraciones 3                  object\n",
            "Consideraciones 4                  object\n",
            "Sección resuelve                   object\n",
            "Trigramas_texto                    object\n",
            "Trigramas_relevantes               object\n",
            "Etiqueta                            int64\n",
            "Hechos_tokens                      object\n",
            "Pretensiones_tokens                object\n",
            "Hechos_word_count                   int64\n",
            "Pretensiones_word_count             int64\n",
            "Hechos_top_words                   object\n",
            "Pretensiones_top_words             object\n",
            "Hechos_top_entities                object\n",
            "Pretensiones_top_entities          object\n",
            "Hechos_pos_tags                    object\n",
            "Pretensiones_pos_tags              object\n",
            "Hechos_normalized_length          float64\n",
            "Pretensiones_normalized_length    float64\n",
            "Hechos_embeddings                  object\n",
            "Pretensiones_embeddings            object\n",
            "dtype: object\n"
          ]
        }
      ]
    },
    {
      "cell_type": "code",
      "source": [
        "!pip install transformers==4.28.1"
      ],
      "metadata": {
        "colab": {
          "base_uri": "https://localhost:8080/"
        },
        "id": "rbGdg3Wb0Cfl",
        "outputId": "878a7cb9-fe4f-4c8e-8f44-c1146c5168d3"
      },
      "execution_count": null,
      "outputs": [
        {
          "output_type": "stream",
          "name": "stdout",
          "text": [
            "Collecting transformers==4.28.1\n",
            "  Downloading transformers-4.28.1-py3-none-any.whl (7.0 MB)\n",
            "\u001b[2K     \u001b[90m━━━━━━━━━━━━━━━━━━━━━━━━━━━━━━━━━━━━━━━━\u001b[0m \u001b[32m7.0/7.0 MB\u001b[0m \u001b[31m53.4 MB/s\u001b[0m eta \u001b[36m0:00:00\u001b[0m\n",
            "\u001b[?25hRequirement already satisfied: filelock in /usr/local/lib/python3.10/dist-packages (from transformers==4.28.1) (3.15.4)\n",
            "Requirement already satisfied: huggingface-hub<1.0,>=0.11.0 in /usr/local/lib/python3.10/dist-packages (from transformers==4.28.1) (0.23.5)\n",
            "Requirement already satisfied: numpy>=1.17 in /usr/local/lib/python3.10/dist-packages (from transformers==4.28.1) (1.25.2)\n",
            "Requirement already satisfied: packaging>=20.0 in /usr/local/lib/python3.10/dist-packages (from transformers==4.28.1) (24.1)\n",
            "Requirement already satisfied: pyyaml>=5.1 in /usr/local/lib/python3.10/dist-packages (from transformers==4.28.1) (6.0.1)\n",
            "Requirement already satisfied: regex!=2019.12.17 in /usr/local/lib/python3.10/dist-packages (from transformers==4.28.1) (2024.5.15)\n",
            "Requirement already satisfied: requests in /usr/local/lib/python3.10/dist-packages (from transformers==4.28.1) (2.31.0)\n",
            "Collecting tokenizers!=0.11.3,<0.14,>=0.11.1 (from transformers==4.28.1)\n",
            "  Downloading tokenizers-0.13.3-cp310-cp310-manylinux_2_17_x86_64.manylinux2014_x86_64.whl (7.8 MB)\n",
            "\u001b[2K     \u001b[90m━━━━━━━━━━━━━━━━━━━━━━━━━━━━━━━━━━━━━━━━\u001b[0m \u001b[32m7.8/7.8 MB\u001b[0m \u001b[31m49.1 MB/s\u001b[0m eta \u001b[36m0:00:00\u001b[0m\n",
            "\u001b[?25hRequirement already satisfied: tqdm>=4.27 in /usr/local/lib/python3.10/dist-packages (from transformers==4.28.1) (4.66.4)\n",
            "Requirement already satisfied: fsspec>=2023.5.0 in /usr/local/lib/python3.10/dist-packages (from huggingface-hub<1.0,>=0.11.0->transformers==4.28.1) (2023.6.0)\n",
            "Requirement already satisfied: typing-extensions>=3.7.4.3 in /usr/local/lib/python3.10/dist-packages (from huggingface-hub<1.0,>=0.11.0->transformers==4.28.1) (4.12.2)\n",
            "Requirement already satisfied: charset-normalizer<4,>=2 in /usr/local/lib/python3.10/dist-packages (from requests->transformers==4.28.1) (3.3.2)\n",
            "Requirement already satisfied: idna<4,>=2.5 in /usr/local/lib/python3.10/dist-packages (from requests->transformers==4.28.1) (3.7)\n",
            "Requirement already satisfied: urllib3<3,>=1.21.1 in /usr/local/lib/python3.10/dist-packages (from requests->transformers==4.28.1) (2.0.7)\n",
            "Requirement already satisfied: certifi>=2017.4.17 in /usr/local/lib/python3.10/dist-packages (from requests->transformers==4.28.1) (2024.7.4)\n",
            "Installing collected packages: tokenizers, transformers\n",
            "  Attempting uninstall: tokenizers\n",
            "    Found existing installation: tokenizers 0.19.1\n",
            "    Uninstalling tokenizers-0.19.1:\n",
            "      Successfully uninstalled tokenizers-0.19.1\n",
            "  Attempting uninstall: transformers\n",
            "    Found existing installation: transformers 4.42.4\n",
            "    Uninstalling transformers-4.42.4:\n",
            "      Successfully uninstalled transformers-4.42.4\n",
            "Successfully installed tokenizers-0.13.3 transformers-4.28.1\n"
          ]
        }
      ]
    },
    {
      "cell_type": "code",
      "source": [
        "from transformers import AutoTokenizer, AutoModel\n",
        "import torch"
      ],
      "metadata": {
        "id": "AOC_mYRw0KC2"
      },
      "execution_count": null,
      "outputs": []
    },
    {
      "cell_type": "code",
      "source": [
        "# Cargar el modelo y el tokenizer preentrenados\n",
        "tokenizer = AutoTokenizer.from_pretrained(\"dccuchile/bert-base-spanish-wwm-uncased\")\n",
        "model = AutoModel.from_pretrained(\"dccuchile/bert-base-spanish-wwm-uncased\")\n",
        "\n",
        "# Función para obtener embeddings\n",
        "def obtener_embeddings(texto):\n",
        "  tokens = tokenizer(texto, return_tensors=\"pt\", truncation=True, padding=True)\n",
        "  with torch.no_grad():\n",
        "    outputs = model(**tokens)\n",
        "  embeddings = outputs.last_hidden_state.mean(dim=1).numpy()\n",
        "  return embeddings"
      ],
      "metadata": {
        "colab": {
          "base_uri": "https://localhost:8080/",
          "height": 455,
          "referenced_widgets": [
            "24f5ee3bbbe14633a0379bb7763df0cb",
            "b7e831cc15264c228202e7d0e15ec27c",
            "31b5bf538a154511b106b7acfa33e85a",
            "764d1828bb394d71a19c1629895c9c86",
            "bee919cf98c64806aee62ff3a25e3a7a",
            "fef6713b06ab468298a2d0c9232c42ad",
            "8d2cfc8e154c4bfba3e8273942f90f7d",
            "e895955ff086461fa23c1fc325cba4ff",
            "e58384aec9ea41ac992afe6d54ae093f",
            "88702250cee946dc96a975b4222af982",
            "70ed68dd1b3d429fbb4cf287e004dfbf",
            "baeb184c68ce4f1db720463b39170a20",
            "a7bd62545ef94d1786e84dfa51a62a37",
            "67aa1970ebb04cff949a2846afbed9c4",
            "cc21059ed01a4f8ca0df6628ebfd0651",
            "13658bd3739049308152780b6934643d",
            "ad8e7e9df62e4107bd78827186350215",
            "474e3c6eeb564681918cb075ea10f4c9",
            "069b85277bba465f933c8320ed2b692f",
            "9755bb89a9484524a960e835d80415d7",
            "7e1e951443624dd4b7fd8a1468144778",
            "f8bc7098374748c699d6ac56cf60b6f7",
            "ddd7581359fa41dab4a1c5242d5128c6",
            "73754ad768314751b3578e321ebb6ea1",
            "fda9cbe9ce28430fb636b86aee4a8158",
            "426cef7637794071a7bb76063f6626e8",
            "f3f3bc709445419fbc1c9b4a86e2be6b",
            "f2d34fd387664280800695aacfa7f6b1",
            "897e6b8c896142e989503ea649903574",
            "b642a623c13c4732a3e84cb4cf9d0bac",
            "4755ecfa4e23408b9bc6b9c1729bf2da",
            "107c20d8ad404393b3fec549df6983ad",
            "10192ea994a14972b3c0261c1151848b",
            "46d8459fee28401a8e495c5a56ffd710",
            "d1157424a0e6484f93620c343fe9c957",
            "485e693611d84659a852dbf1c2624bf4",
            "ee80c7a820804818ad89a68ddae06ced",
            "aa1a9f8c9e1f4309868b7cc670a8becc",
            "cc3278abb28f48f8a60a878f16328a46",
            "d434a1ea898b4d2cab7984a8bd5331ae",
            "512f2d7245764635a4627b3b12f1270d",
            "71b7d2d9de5b45b0b54ef0994ebba626",
            "38a4556028ac456da4f1865d60791e26",
            "c0597e7bc66f479e8ed2f504c12ce40c",
            "681ca7462e354f66928e3270d9c90ba3",
            "e93447be05e64ecd94114cc467030e28",
            "249f90430ac447d98fdcbf8cadd2f625",
            "94c28a41591441329d9a5e89b863cb61",
            "ffa926a180a24adf9d345c1ec7007919",
            "4927740a81bd4b168af8077c080b38dd",
            "52e5c18ef21b4c16ae5359ae0a118c36",
            "d0855be9ff2b46caa0c4a7ea81691ca8",
            "d6976b1ece084edd9be6ef2a4ab56c1a",
            "916f92d2a2db4371a31411950968557b",
            "7d02d1a30a6c4eb1aa2a2bb3087e7957",
            "d568905251fe4f6a8166bc6d8dabd6ae",
            "deb58c98e2c3460396961621555e44ce",
            "60390edda2954c298a4df165bac434d0",
            "bf2b50d1367d4be6b78d3285465346b3",
            "993289bb6ab74de39588322319cd8e68",
            "66dc4132c01a4693bfd20d7f792cdc28",
            "2336d78443dd41d3942d49183aa7ef22",
            "d1afd9b8378d4945bc53c8c000616c64",
            "979357b877cd41cb830dc60882f59c98",
            "0d0f01a336de4c5bb7a8f2c78098b67c",
            "e0d40cac1f61402bbfdaa35288803d0e"
          ]
        },
        "id": "a8-otCqM0QSk",
        "outputId": "01b4eacb-478d-47e5-94bb-bc17cef59d29"
      },
      "execution_count": null,
      "outputs": [
        {
          "output_type": "stream",
          "name": "stderr",
          "text": [
            "/usr/local/lib/python3.10/dist-packages/huggingface_hub/file_download.py:1132: FutureWarning: `resume_download` is deprecated and will be removed in version 1.0.0. Downloads always resume when possible. If you want to force a new download, use `force_download=True`.\n",
            "  warnings.warn(\n",
            "/usr/local/lib/python3.10/dist-packages/huggingface_hub/utils/_token.py:89: UserWarning: \n",
            "The secret `HF_TOKEN` does not exist in your Colab secrets.\n",
            "To authenticate with the Hugging Face Hub, create a token in your settings tab (https://huggingface.co/settings/tokens), set it as secret in your Google Colab and restart your session.\n",
            "You will be able to reuse this secret in all of your notebooks.\n",
            "Please note that authentication is recommended but still optional to access public models or datasets.\n",
            "  warnings.warn(\n"
          ]
        },
        {
          "output_type": "display_data",
          "data": {
            "text/plain": [
              "tokenizer_config.json:   0%|          | 0.00/310 [00:00<?, ?B/s]"
            ],
            "application/vnd.jupyter.widget-view+json": {
              "version_major": 2,
              "version_minor": 0,
              "model_id": "24f5ee3bbbe14633a0379bb7763df0cb"
            }
          },
          "metadata": {}
        },
        {
          "output_type": "display_data",
          "data": {
            "text/plain": [
              "config.json:   0%|          | 0.00/650 [00:00<?, ?B/s]"
            ],
            "application/vnd.jupyter.widget-view+json": {
              "version_major": 2,
              "version_minor": 0,
              "model_id": "baeb184c68ce4f1db720463b39170a20"
            }
          },
          "metadata": {}
        },
        {
          "output_type": "display_data",
          "data": {
            "text/plain": [
              "vocab.txt:   0%|          | 0.00/248k [00:00<?, ?B/s]"
            ],
            "application/vnd.jupyter.widget-view+json": {
              "version_major": 2,
              "version_minor": 0,
              "model_id": "ddd7581359fa41dab4a1c5242d5128c6"
            }
          },
          "metadata": {}
        },
        {
          "output_type": "display_data",
          "data": {
            "text/plain": [
              "tokenizer.json:   0%|          | 0.00/486k [00:00<?, ?B/s]"
            ],
            "application/vnd.jupyter.widget-view+json": {
              "version_major": 2,
              "version_minor": 0,
              "model_id": "46d8459fee28401a8e495c5a56ffd710"
            }
          },
          "metadata": {}
        },
        {
          "output_type": "display_data",
          "data": {
            "text/plain": [
              "special_tokens_map.json:   0%|          | 0.00/134 [00:00<?, ?B/s]"
            ],
            "application/vnd.jupyter.widget-view+json": {
              "version_major": 2,
              "version_minor": 0,
              "model_id": "681ca7462e354f66928e3270d9c90ba3"
            }
          },
          "metadata": {}
        },
        {
          "output_type": "stream",
          "name": "stderr",
          "text": [
            "/usr/local/lib/python3.10/dist-packages/huggingface_hub/file_download.py:1132: FutureWarning: `resume_download` is deprecated and will be removed in version 1.0.0. Downloads always resume when possible. If you want to force a new download, use `force_download=True`.\n",
            "  warnings.warn(\n"
          ]
        },
        {
          "output_type": "display_data",
          "data": {
            "text/plain": [
              "pytorch_model.bin:   0%|          | 0.00/440M [00:00<?, ?B/s]"
            ],
            "application/vnd.jupyter.widget-view+json": {
              "version_major": 2,
              "version_minor": 0,
              "model_id": "d568905251fe4f6a8166bc6d8dabd6ae"
            }
          },
          "metadata": {}
        },
        {
          "output_type": "stream",
          "name": "stderr",
          "text": [
            "Some weights of the model checkpoint at dccuchile/bert-base-spanish-wwm-uncased were not used when initializing BertModel: ['cls.predictions.transform.dense.weight', 'cls.predictions.transform.dense.bias', 'cls.predictions.decoder.weight', 'cls.predictions.transform.LayerNorm.weight', 'cls.predictions.bias', 'cls.predictions.decoder.bias', 'cls.predictions.transform.LayerNorm.bias']\n",
            "- This IS expected if you are initializing BertModel from the checkpoint of a model trained on another task or with another architecture (e.g. initializing a BertForSequenceClassification model from a BertForPreTraining model).\n",
            "- This IS NOT expected if you are initializing BertModel from the checkpoint of a model that you expect to be exactly identical (initializing a BertForSequenceClassification model from a BertForSequenceClassification model).\n"
          ]
        }
      ]
    },
    {
      "cell_type": "code",
      "source": [
        "# Aplicar la función a la columna \"Hechos\"\n",
        "df['embeddings'] = df['Hechos'].apply(obtener_embeddings)"
      ],
      "metadata": {
        "id": "vLj9UxL40W2e"
      },
      "execution_count": null,
      "outputs": []
    },
    {
      "cell_type": "code",
      "source": [
        "import numpy as np\n",
        "texto_ejemplo = df['Hechos'].iloc[0]\n",
        "embeddings_ejemplo = obtener_embeddings(texto_ejemplo)\n",
        "print(type(embeddings_ejemplo))"
      ],
      "metadata": {
        "colab": {
          "base_uri": "https://localhost:8080/"
        },
        "id": "ozN5UN_91BzV",
        "outputId": "f2458fc2-483a-41b6-cc34-ed84b32c958d"
      },
      "execution_count": null,
      "outputs": [
        {
          "output_type": "stream",
          "name": "stdout",
          "text": [
            "<class 'numpy.ndarray'>\n"
          ]
        }
      ]
    },
    {
      "cell_type": "code",
      "source": [
        "print(df)"
      ],
      "metadata": {
        "colab": {
          "base_uri": "https://localhost:8080/"
        },
        "id": "Ho9f34iN1DFF",
        "outputId": "26064a5c-1a69-4f26-faa6-6d0704b60819"
      },
      "execution_count": null,
      "outputs": [
        {
          "output_type": "stream",
          "name": "stdout",
          "text": [
            "                                    Nombre del archivo        ID  \\\n",
            "0               -1_2020-800-00217_2022-01-252219-1.pdf    1 sent   \n",
            "1    115557 SEI KOU S.A. VS. ÁLVARO ESLAVA JÁCOME y...    2 sent   \n",
            "2    1283_JOSE_LUIS_MALVEHY_y_OTROS_VS._SERVISATELI...    3 sent   \n",
            "3    134677 GUSTAVO FERNANDO MUÑOZ PEDRAZA Y OTRO V...    4 sent   \n",
            "4    1933_CARLOS_HAKIM_vs_JORGE_HAKIM_Y_OTROS_10_10...    5 sent   \n",
            "..                                                 ...       ...   \n",
            "159   Sentencia n.° 801-76  30 de octubre del 2014.pdf  161 sent   \n",
            "160  Sentencia n.° 801-76  30 de octubre del 2014.p...  162 sent   \n",
            "161  Sentencia n.° 801-82 de 20 de noviembre del 20...  163 sent   \n",
            "162  Sentencia n.º 800-83 de 03 de diciembre del 20...  164 sent   \n",
            "163  Sentencia nº. 800-116 de 4 de septiembre del 2...  165 sent   \n",
            "\n",
            "                                          NER_personas  \\\n",
            "0    ['joaquín fernando vélez', 'joaquín fernando v...   \n",
            "1    ['carlos darío camargo la hoz', 'luis fernando...   \n",
            "2    ['servisatélites a. tribunald', 'arbitramento ...   \n",
            "3    ['gustavo fernando', 'ramiro alberto muñoz ped...   \n",
            "4    ['jorge alberto hakim tawil', 'gyptec s.a.', '...   \n",
            "..                                                 ...   \n",
            "159  ['maria del rosario', 'q ue', 'despac ho', 'ig...   \n",
            "160  ['maria del rosario', 'q ue', 'despac ho', 'ig...   \n",
            "161  ['jhon carlos lópez berrí', 'jhon carlos lópez...   \n",
            "162  ['josé lucas dugand pinedo', 'fernando anto ni...   \n",
            "163  ['d', 'p ú bl i ca s', 'carmen lucía figueroa ...   \n",
            "\n",
            "                                    NER-Organizaciones  \\\n",
            "0    ['Acerca', 'Acerca', 'S.A.S. C.I.', 'AAA', 'Di...   \n",
            "1    ['LAUDO', 'Árbitro Único', 'LUIS FERNANDO SERE...   \n",
            "2    ['SERVISATÉLITES', 'ALINASJ', 'AMESE', 'PAULW'...   \n",
            "3    ['INVERSIONES', 'LAUDO', 'Tribunal', 'Proyecto...   \n",
            "4    ['KISTNA', 'CORPORATION', 'LAUDO', 'Cámara de\\...   \n",
            "..                                                 ...   \n",
            "159  ['Centr', 'TEL TEL', 'MANIZALES', 'BOLS A DE O...   \n",
            "160  ['Centr', 'TEL TEL', 'MANIZALES', 'BOLS A DE O...   \n",
            "161  ['TEL TEL', 'MANIZALES', 'BOLSA DE OCCIDENTE',...   \n",
            "162  ['TEL TEL', 'MANIZALES', 'BOLSA DE OCCIDENTE',...   \n",
            "163  ['Superintendencia de Sociedades', 'País', 'l ...   \n",
            "\n",
            "                      NER Fechas  \\\n",
            "0                             []   \n",
            "1                             []   \n",
            "2                             []   \n",
            "3                             []   \n",
            "4    ['17-12-2009', '23-26-000']   \n",
            "..                           ...   \n",
            "159                           []   \n",
            "160                           []   \n",
            "161                           []   \n",
            "162                           []   \n",
            "163                           []   \n",
            "\n",
            "                                                Hechos  \\\n",
            "0    El proceso iniciado por Hijos de Patrocinio Ba...   \n",
            "1    El conflicto de interés puede surgir cuando el...   \n",
            "2    El señor Carlos Hernán Malvehy, en calidad de ...   \n",
            "3    Frente a los hechos\\nComo primera medida señal...   \n",
            "4    La mala fe de Jorge Hakim evidenciada por la n...   \n",
            "..                                                 ...   \n",
            "159  los hechos centrales de la demanda se refieren...   \n",
            "160  los hechos centrales de la demanda se refieren...   \n",
            "161  La empresa Productora de Textiles de Tocancipá...   \n",
            "162  El proceso fue iniciado por José Lucas Dugand ...   \n",
            "163  demanda presentada por Ángela María Azuero Fig...   \n",
            "\n",
            "                                          Pretensiones  \\\n",
            "0    controvertir la responsabilidad de Joaquín Fer...   \n",
            "1    LAS PRETENSIONES de la demanda van encaminadas...   \n",
            "2    PRIMERA Declarar que la sociedad SERVISATÉLITE...   \n",
            "3    Que se declare que el señor Álvaro Antonio Nor...   \n",
            "4    analizar si las actuaciones de las partes se a...   \n",
            "..                                                 ...   \n",
            "159  Declarar sin valor ni efectos jurídicos la apr...   \n",
            "160  Declarar sin valor ni efectos jurídicos la apr...   \n",
            "161  Declarar que López Berrío no cumplió con el pr...   \n",
            "162  \"Que se declare por parte de esa Delegatura, l...   \n",
            "163  Que se declare la nulidad absoluta de las deci...   \n",
            "\n",
            "                                     Consideraciones 1  \\\n",
            "0    La Superintendencia reitera que los administra...   \n",
            "1    La infracción de la obligación.\\nEl deudor que...   \n",
            "2    El Tribunal acoge la doctrina predominante sob...   \n",
            "3                                                  NaN   \n",
            "4    Se afirma que la definición sobre la nulidad a...   \n",
            "..                                                 ...   \n",
            "159  El tribunal señala que en el ordenamiento jurí...   \n",
            "160  El tribunal señala que en el ordenamiento jurí...   \n",
            "161  al revisar las pruebas y concluyó que no encon...   \n",
            "162  El despacho pudo constatar que una buena parte...   \n",
            "163  la Superintendencia puede examinar con detenim...   \n",
            "\n",
            "                                     Consideraciones 2  \\\n",
            "0    La Superintendencia ha identificado previament...   \n",
            "1    En el caso que nos ocupa, las obligaciones nac...   \n",
            "2    El tribunal reconoce que, según la jurispruden...   \n",
            "3                                                  NaN   \n",
            "4    El tribunal señala que, en caso de conflicto d...   \n",
            "..                                                 ...   \n",
            "159  En cuanto a la prohibición del artículo 185 de...   \n",
            "160  En cuanto a la prohibición del artículo 185 de...   \n",
            "161  no consideró que existiera responsabilidad del...   \n",
            "162  el despacho sí pudo establecer que el liquidad...   \n",
            "163  la Superintendencia ha analizado en múltiples ...   \n",
            "\n",
            "                                     Consideraciones 3  ...  \\\n",
            "0    La Superintendencia considera que incluso si e...  ...   \n",
            "1    En el mismo sentido la Sala Civil de la Corte ...  ...   \n",
            "2    La actitud pasiva asumida por los vendedores d...  ...   \n",
            "3                                                  NaN  ...   \n",
            "4    El tribunal presume la buena fe del administra...  ...   \n",
            "..                                                 ...  ...   \n",
            "159  El tribunal reitera que la violación del derec...  ...   \n",
            "160  El tribunal reitera que la violación del derec...  ...   \n",
            "161  Toptex S.A. y Comercializadora Internacional A...  ...   \n",
            "162  se determinó que el liquidador Mendoza había c...  ...   \n",
            "163  se censuró la conducta del representante legal...  ...   \n",
            "\n",
            "                                Pretensiones_top_words  \\\n",
            "0    ['vélez', 'deber', 'barragán', 'demandante', '...   \n",
            "1    ['contrato', 'pretensión', 'convocado', 'negoc...   \n",
            "2    ['sumar', 'dólares', 'usd', '22', '2006', 'pla...   \n",
            "3    ['noreño', 'señor', 'declarar', 'socio', 'álva...   \n",
            "4    ['nulidad', 'analizar', 'actuación', 'parte', ...   \n",
            "..                                                 ...   \n",
            "159  ['declarar', 'valor', 'efecto', 'jurídico', 'a...   \n",
            "160  ['declarar', 'valor', 'efecto', 'jurídico', 'a...   \n",
            "161  ['declarar', 'lópez', 'berrío', '3', 'cumplir'...   \n",
            "162  ['liquidador', 'sociedad', 'accionista', 'ejer...   \n",
            "163  ['decisión', '1', 'nulidad', 'absoluto', 'repr...   \n",
            "\n",
            "                                   Hechos_top_entities  \\\n",
            "0    ['Hijos de Patrocinio Barragán Limitada', 'Joa...   \n",
            "1    ['SERVICIOS LIMITADA', 'Existían cuentas de eg...   \n",
            "2    ['Carlos Hernán Malvehy', 'S3 Wireless', 'Pat ...   \n",
            "3    ['“', 'los Convocantes', 'Aliar', 'Juan Carlos...   \n",
            "4    ['Jorge Hakim', 'La contraparte presentó una d...   \n",
            "..                                                 ...   \n",
            "159                                                 []   \n",
            "160                                                 []   \n",
            "161  ['Productora de Textiles de Tocancipá S.A.', '...   \n",
            "162  ['José Lucas Dugand Pinedo', 'Fernando Antonio...   \n",
            "163  ['Ángela María Azuero Figueroa', 'Carmen Lucía...   \n",
            "\n",
            "                             Pretensiones_top_entities  \\\n",
            "0    ['Joaquín Fernando Vélez Barragán', 'Hijos de ...   \n",
            "1               ['PRETENSIONES', 'GRUPO D', 'Séptima']   \n",
            "2    ['Tribunal', 'S.A.', 'UN MILLÓN', 'Wireless', ...   \n",
            "3    ['Noreña', 'Álvaro Antonio Noreña Noreña', 'in...   \n",
            "4                                                   []   \n",
            "..                                                 ...   \n",
            "159                                       ['Declarar']   \n",
            "160                                       ['Declarar']   \n",
            "161  ['López Berrío', 'Declarar', 'la Ley', 'Toptex...   \n",
            "162          ['Delegatura', 'Juan Manuel Mendoza Ara']   \n",
            "163              ['El Puente S.A.', 'Específicamente']   \n",
            "\n",
            "                                       Hechos_pos_tags  \\\n",
            "0    [('proceso', 'NN'), ('iniciado', 'NN'), ('hijo...   \n",
            "1    [('conflicto', 'NN'), ('interés', 'NN'), ('sur...   \n",
            "2    [('señor', 'NN'), ('carlos', 'NN'), ('hernán',...   \n",
            "3    [('frente', 'NN'), ('hecho', 'NN'), ('medido',...   \n",
            "4    [('malo', 'NN'), ('fe', 'NN'), ('jorge', 'NN')...   \n",
            "..                                                 ...   \n",
            "159  [('hecho', 'JJ'), ('central', 'JJ'), ('demanda...   \n",
            "160  [('hecho', 'JJ'), ('central', 'JJ'), ('demanda...   \n",
            "161  [('empresa', 'JJ'), ('productor', 'NN'), ('tex...   \n",
            "162  [('proceso', 'NN'), ('iniciado', 'NN'), ('josé...   \n",
            "163  [('demanda', 'NN'), ('presentado', 'NN'), ('án...   \n",
            "\n",
            "                                 Pretensiones_pos_tags  \\\n",
            "0    [('controvertir', 'NN'), ('responsabilidad', '...   \n",
            "1    [('pretensión', 'NN'), ('demanda', 'NN'), ('en...   \n",
            "2    [('declarar', 'NN'), ('sociedad', 'NN'), ('ser...   \n",
            "3    [('declarar', 'NN'), ('señor', 'NN'), ('álvaro...   \n",
            "4    [('analizar', 'NN'), ('actuación', 'NN'), ('pa...   \n",
            "..                                                 ...   \n",
            "159  [('declarar', 'NN'), ('valor', 'NN'), ('efecto...   \n",
            "160  [('declarar', 'NN'), ('valor', 'NN'), ('efecto...   \n",
            "161  [('declarar', 'NN'), ('lópez', 'NN'), ('berrío...   \n",
            "162  [('declarar', 'NN'), ('delegaturar', 'NN'), ('...   \n",
            "163  [('declarar', 'NN'), ('nulidad', 'JJ'), ('abso...   \n",
            "\n",
            "    Hechos_normalized_length Pretensiones_normalized_length  \\\n",
            "0                   0.856546                       1.180337   \n",
            "1                   0.970752                       2.672461   \n",
            "2                   1.313370                       8.351439   \n",
            "3                  31.763579                       1.002173   \n",
            "4                   0.642409                       0.489951   \n",
            "..                       ...                            ...   \n",
            "159                 0.271240                       0.935361   \n",
            "160                 0.271240                       0.935361   \n",
            "161                 0.356894                       0.779468   \n",
            "162                 0.471100                       0.556763   \n",
            "163                 0.385446                       1.113525   \n",
            "\n",
            "                                     Hechos_embeddings  \\\n",
            "0    [ 7.58296013e-01  9.85343829e-02  2.61427104e-...   \n",
            "1    [ 3.14043492e-01 -5.07478952e-01  6.18517518e-...   \n",
            "2    [ 2.25115210e-01 -1.52895913e-01  6.18821084e-...   \n",
            "3    [ 3.01734924e-01 -3.26063067e-01  1.81551963e-...   \n",
            "4    [ 3.74454319e-01  3.36084664e-01  5.33381283e-...   \n",
            "..                                                 ...   \n",
            "159  [ 7.63179541e-01 -1.00893199e-01  8.80263150e-...   \n",
            "160  [ 7.63179541e-01 -1.00893199e-01  8.80263150e-...   \n",
            "161  [ 6.04718566e-01 -1.48097590e-01  1.03055584e+...   \n",
            "162  [ 5.62478542e-01 -2.85258979e-01  1.69961378e-...   \n",
            "163  [ 5.26338577e-01 -1.46694124e-01 -5.04732057e-...   \n",
            "\n",
            "                               Pretensiones_embeddings  \\\n",
            "0    [ 5.25147676e-01  1.85731649e-02  1.20877218e+...   \n",
            "1    [ 3.04962695e-01 -1.80265039e-01  3.17214251e-...   \n",
            "2    [ 3.57021391e-02 -1.29794464e-01  5.56596458e-...   \n",
            "3    [-4.84486260e-02 -1.69026241e-01  7.57749975e-...   \n",
            "4    [ 6.44091606e-01 -1.12503730e-01  2.52714843e-...   \n",
            "..                                                 ...   \n",
            "159  [ 6.11995012e-02 -4.96029913e-01  7.30626762e-...   \n",
            "160  [ 6.11995012e-02 -4.96029913e-01  7.30626762e-...   \n",
            "161  [ 3.99374962e-01 -2.05932915e-01  1.10479963e+...   \n",
            "162  [ 4.98210013e-01  1.64431632e-02  1.27350017e-...   \n",
            "163  [ 5.07410169e-01 -2.94688463e-01  4.90047276e-...   \n",
            "\n",
            "                                            embeddings  \n",
            "0    [[0.5985802, -0.062136404, 0.2884579, -0.02140...  \n",
            "1    [[0.27261338, -0.6453588, 0.58733803, -0.19605...  \n",
            "2    [[0.15470904, -0.20889406, 0.50029093, -0.1476...  \n",
            "3    [[0.30173498, -0.326063, 0.18155196, -0.138584...  \n",
            "4    [[0.29381654, 0.11665988, 0.5651289, 0.1458857...  \n",
            "..                                                 ...  \n",
            "159  [[0.58287704, -0.33542487, -0.12602742, 0.2735...  \n",
            "160  [[0.58287704, -0.33542487, -0.12602742, 0.2735...  \n",
            "161  [[0.10974633, -0.35669756, 0.4946588, -0.48298...  \n",
            "162  [[0.28305015, -0.53936327, 0.12916556, -0.3498...  \n",
            "163  [[0.2364018, -0.29240012, 0.037681594, -0.1027...  \n",
            "\n",
            "[164 rows x 30 columns]\n"
          ]
        }
      ]
    },
    {
      "cell_type": "code",
      "source": [
        "import numpy as np\n",
        "\n",
        "# Encuentra la longitud del vector más largo\n",
        "longitud_maxima = max(df['embeddings'].apply(len))\n",
        "\n",
        "# Aplica padding a los vectores\n",
        "df['embeddings_padded'] = df['embeddings'].apply(lambda x: np.pad(x, (0, longitud_maxima - len(x)), 'constant'))"
      ],
      "metadata": {
        "id": "RnPWiv9T1KwU"
      },
      "execution_count": null,
      "outputs": []
    },
    {
      "cell_type": "markdown",
      "source": [
        "Modelo"
      ],
      "metadata": {
        "id": "Sy-AjPGj1OzO"
      }
    },
    {
      "cell_type": "code",
      "source": [
        "import pandas as pd\n",
        "import numpy as np\n",
        "from sklearn.ensemble import RandomForestClassifier\n",
        "from sklearn.model_selection import train_test_split, GridSearchCV\n",
        "from sklearn.metrics import accuracy_score, classification_report\n",
        "import matplotlib.pyplot as plt"
      ],
      "metadata": {
        "id": "zpwcm55D12hS"
      },
      "execution_count": null,
      "outputs": []
    },
    {
      "cell_type": "code",
      "source": [
        "# Dividir datos en features (X) y etiquetas (y)\n",
        "X = np.stack(df['embeddings_padded'].values).reshape(len(df), -1)  # Reshape to 2D\n",
        "y = df['Etiqueta']"
      ],
      "metadata": {
        "id": "-IJUFaRT1Pw8"
      },
      "execution_count": null,
      "outputs": []
    },
    {
      "cell_type": "code",
      "source": [
        "# Dividir datos en entrenamiento, validación y prueba\n",
        "X_train_val, X_test, y_train_val, y_test = train_test_split(X, y, test_size=0.2, random_state=42)\n",
        "X_train, X_val, y_train, y_val = train_test_split(X_train_val, y_train_val, test_size=0.3, random_state=42)\n"
      ],
      "metadata": {
        "id": "tPKBVaZb1v8z"
      },
      "execution_count": null,
      "outputs": []
    },
    {
      "cell_type": "code",
      "source": [
        "# Definir parámetros para GridSearchCV\n",
        "param_grid = {\n",
        "    'n_estimators': [40, 80, 200],\n",
        "    'max_depth': [2, 10, 20],\n",
        "    'min_samples_split': [2, 5, 10],\n",
        "    'min_samples_leaf': [1, 2, 4],\n",
        "    'criterion': ['gini']\n",
        "}\n"
      ],
      "metadata": {
        "id": "aXQ6wty516c6"
      },
      "execution_count": null,
      "outputs": []
    },
    {
      "cell_type": "code",
      "source": [
        "# Inicializar el RandomForestClassifier\n",
        "rf = RandomForestClassifier(random_state=42)"
      ],
      "metadata": {
        "id": "pYQvoFsE19Gr"
      },
      "execution_count": null,
      "outputs": []
    },
    {
      "cell_type": "code",
      "source": [
        "# Realizar la búsqueda de hiperparámetros\n",
        "grid_search = GridSearchCV(estimator=rf, param_grid=param_grid, cv=3, scoring='accuracy')\n",
        "grid_search.fit(X, y)\n"
      ],
      "metadata": {
        "colab": {
          "base_uri": "https://localhost:8080/",
          "height": 118
        },
        "id": "xrNZj7U82AYi",
        "outputId": "3204ed2f-ccaa-4248-dbe1-4528298a032d"
      },
      "execution_count": null,
      "outputs": [
        {
          "output_type": "execute_result",
          "data": {
            "text/plain": [
              "GridSearchCV(cv=3, estimator=RandomForestClassifier(random_state=42),\n",
              "             param_grid={'criterion': ['gini'], 'max_depth': [2, 10, 20],\n",
              "                         'min_samples_leaf': [1, 2, 4],\n",
              "                         'min_samples_split': [2, 5, 10],\n",
              "                         'n_estimators': [40, 80, 200]},\n",
              "             scoring='accuracy')"
            ],
            "text/html": [
              "<style>#sk-container-id-1 {color: black;background-color: white;}#sk-container-id-1 pre{padding: 0;}#sk-container-id-1 div.sk-toggleable {background-color: white;}#sk-container-id-1 label.sk-toggleable__label {cursor: pointer;display: block;width: 100%;margin-bottom: 0;padding: 0.3em;box-sizing: border-box;text-align: center;}#sk-container-id-1 label.sk-toggleable__label-arrow:before {content: \"▸\";float: left;margin-right: 0.25em;color: #696969;}#sk-container-id-1 label.sk-toggleable__label-arrow:hover:before {color: black;}#sk-container-id-1 div.sk-estimator:hover label.sk-toggleable__label-arrow:before {color: black;}#sk-container-id-1 div.sk-toggleable__content {max-height: 0;max-width: 0;overflow: hidden;text-align: left;background-color: #f0f8ff;}#sk-container-id-1 div.sk-toggleable__content pre {margin: 0.2em;color: black;border-radius: 0.25em;background-color: #f0f8ff;}#sk-container-id-1 input.sk-toggleable__control:checked~div.sk-toggleable__content {max-height: 200px;max-width: 100%;overflow: auto;}#sk-container-id-1 input.sk-toggleable__control:checked~label.sk-toggleable__label-arrow:before {content: \"▾\";}#sk-container-id-1 div.sk-estimator input.sk-toggleable__control:checked~label.sk-toggleable__label {background-color: #d4ebff;}#sk-container-id-1 div.sk-label input.sk-toggleable__control:checked~label.sk-toggleable__label {background-color: #d4ebff;}#sk-container-id-1 input.sk-hidden--visually {border: 0;clip: rect(1px 1px 1px 1px);clip: rect(1px, 1px, 1px, 1px);height: 1px;margin: -1px;overflow: hidden;padding: 0;position: absolute;width: 1px;}#sk-container-id-1 div.sk-estimator {font-family: monospace;background-color: #f0f8ff;border: 1px dotted black;border-radius: 0.25em;box-sizing: border-box;margin-bottom: 0.5em;}#sk-container-id-1 div.sk-estimator:hover {background-color: #d4ebff;}#sk-container-id-1 div.sk-parallel-item::after {content: \"\";width: 100%;border-bottom: 1px solid gray;flex-grow: 1;}#sk-container-id-1 div.sk-label:hover label.sk-toggleable__label {background-color: #d4ebff;}#sk-container-id-1 div.sk-serial::before {content: \"\";position: absolute;border-left: 1px solid gray;box-sizing: border-box;top: 0;bottom: 0;left: 50%;z-index: 0;}#sk-container-id-1 div.sk-serial {display: flex;flex-direction: column;align-items: center;background-color: white;padding-right: 0.2em;padding-left: 0.2em;position: relative;}#sk-container-id-1 div.sk-item {position: relative;z-index: 1;}#sk-container-id-1 div.sk-parallel {display: flex;align-items: stretch;justify-content: center;background-color: white;position: relative;}#sk-container-id-1 div.sk-item::before, #sk-container-id-1 div.sk-parallel-item::before {content: \"\";position: absolute;border-left: 1px solid gray;box-sizing: border-box;top: 0;bottom: 0;left: 50%;z-index: -1;}#sk-container-id-1 div.sk-parallel-item {display: flex;flex-direction: column;z-index: 1;position: relative;background-color: white;}#sk-container-id-1 div.sk-parallel-item:first-child::after {align-self: flex-end;width: 50%;}#sk-container-id-1 div.sk-parallel-item:last-child::after {align-self: flex-start;width: 50%;}#sk-container-id-1 div.sk-parallel-item:only-child::after {width: 0;}#sk-container-id-1 div.sk-dashed-wrapped {border: 1px dashed gray;margin: 0 0.4em 0.5em 0.4em;box-sizing: border-box;padding-bottom: 0.4em;background-color: white;}#sk-container-id-1 div.sk-label label {font-family: monospace;font-weight: bold;display: inline-block;line-height: 1.2em;}#sk-container-id-1 div.sk-label-container {text-align: center;}#sk-container-id-1 div.sk-container {/* jupyter's `normalize.less` sets `[hidden] { display: none; }` but bootstrap.min.css set `[hidden] { display: none !important; }` so we also need the `!important` here to be able to override the default hidden behavior on the sphinx rendered scikit-learn.org. See: https://github.com/scikit-learn/scikit-learn/issues/21755 */display: inline-block !important;position: relative;}#sk-container-id-1 div.sk-text-repr-fallback {display: none;}</style><div id=\"sk-container-id-1\" class=\"sk-top-container\"><div class=\"sk-text-repr-fallback\"><pre>GridSearchCV(cv=3, estimator=RandomForestClassifier(random_state=42),\n",
              "             param_grid={&#x27;criterion&#x27;: [&#x27;gini&#x27;], &#x27;max_depth&#x27;: [2, 10, 20],\n",
              "                         &#x27;min_samples_leaf&#x27;: [1, 2, 4],\n",
              "                         &#x27;min_samples_split&#x27;: [2, 5, 10],\n",
              "                         &#x27;n_estimators&#x27;: [40, 80, 200]},\n",
              "             scoring=&#x27;accuracy&#x27;)</pre><b>In a Jupyter environment, please rerun this cell to show the HTML representation or trust the notebook. <br />On GitHub, the HTML representation is unable to render, please try loading this page with nbviewer.org.</b></div><div class=\"sk-container\" hidden><div class=\"sk-item sk-dashed-wrapped\"><div class=\"sk-label-container\"><div class=\"sk-label sk-toggleable\"><input class=\"sk-toggleable__control sk-hidden--visually\" id=\"sk-estimator-id-1\" type=\"checkbox\" ><label for=\"sk-estimator-id-1\" class=\"sk-toggleable__label sk-toggleable__label-arrow\">GridSearchCV</label><div class=\"sk-toggleable__content\"><pre>GridSearchCV(cv=3, estimator=RandomForestClassifier(random_state=42),\n",
              "             param_grid={&#x27;criterion&#x27;: [&#x27;gini&#x27;], &#x27;max_depth&#x27;: [2, 10, 20],\n",
              "                         &#x27;min_samples_leaf&#x27;: [1, 2, 4],\n",
              "                         &#x27;min_samples_split&#x27;: [2, 5, 10],\n",
              "                         &#x27;n_estimators&#x27;: [40, 80, 200]},\n",
              "             scoring=&#x27;accuracy&#x27;)</pre></div></div></div><div class=\"sk-parallel\"><div class=\"sk-parallel-item\"><div class=\"sk-item\"><div class=\"sk-label-container\"><div class=\"sk-label sk-toggleable\"><input class=\"sk-toggleable__control sk-hidden--visually\" id=\"sk-estimator-id-2\" type=\"checkbox\" ><label for=\"sk-estimator-id-2\" class=\"sk-toggleable__label sk-toggleable__label-arrow\">estimator: RandomForestClassifier</label><div class=\"sk-toggleable__content\"><pre>RandomForestClassifier(random_state=42)</pre></div></div></div><div class=\"sk-serial\"><div class=\"sk-item\"><div class=\"sk-estimator sk-toggleable\"><input class=\"sk-toggleable__control sk-hidden--visually\" id=\"sk-estimator-id-3\" type=\"checkbox\" ><label for=\"sk-estimator-id-3\" class=\"sk-toggleable__label sk-toggleable__label-arrow\">RandomForestClassifier</label><div class=\"sk-toggleable__content\"><pre>RandomForestClassifier(random_state=42)</pre></div></div></div></div></div></div></div></div></div></div>"
            ]
          },
          "metadata": {},
          "execution_count": 18
        }
      ]
    },
    {
      "cell_type": "code",
      "source": [
        "# Obtener el mejor modelo\n",
        "best_rf = grid_search.best_estimator_\n",
        "print(f\"Mejor modelo encontrado:\\n{best_rf}\")"
      ],
      "metadata": {
        "colab": {
          "base_uri": "https://localhost:8080/"
        },
        "id": "YaiukomG2sVH",
        "outputId": "361410e1-6071-4794-df2a-7456def8eebb"
      },
      "execution_count": null,
      "outputs": [
        {
          "output_type": "stream",
          "name": "stdout",
          "text": [
            "Mejor modelo encontrado:\n",
            "RandomForestClassifier(max_depth=10, min_samples_leaf=2, n_estimators=80,\n",
            "                       random_state=42)\n"
          ]
        }
      ]
    },
    {
      "cell_type": "code",
      "source": [
        "# Reshape X_val to 2 dimensions\n",
        "X_val_reshaped = X_val.reshape(X_val.shape[0], -1)\n",
        "\n",
        "# Evaluar el modelo en datos de validación (using reshaped X_val)\n",
        "y_pred_val = best_rf.predict(X_val_reshaped)\n",
        "print(\"\\nReporte de clasificación en datos de validación:\")\n",
        "print(classification_report(y_val, y_pred_val))"
      ],
      "metadata": {
        "colab": {
          "base_uri": "https://localhost:8080/"
        },
        "id": "Ieiv7Txc21i7",
        "outputId": "e0cf9a2e-7cdd-46ff-9333-d954b9382b81"
      },
      "execution_count": null,
      "outputs": [
        {
          "output_type": "stream",
          "name": "stdout",
          "text": [
            "\n",
            "Reporte de clasificación en datos de validación:\n",
            "              precision    recall  f1-score   support\n",
            "\n",
            "           0       0.95      0.95      0.95        21\n",
            "           1       0.95      0.95      0.95        19\n",
            "\n",
            "    accuracy                           0.95        40\n",
            "   macro avg       0.95      0.95      0.95        40\n",
            "weighted avg       0.95      0.95      0.95        40\n",
            "\n"
          ]
        }
      ]
    },
    {
      "cell_type": "code",
      "source": [
        "# Predecir en entrenamiento y validación\n",
        "y_pred_train = best_rf.predict(X_train.reshape(X_train.shape[0], -1)) # Reshape X_train to 2D\n",
        "y_pred_val = best_rf.predict(X_val.reshape(X_val.shape[0], -1)) # Reshape X_val to 2D\n",
        "\n",
        "# Calcular métricas para entrenamiento\n",
        "acc_train = accuracy_score(y_train, y_pred_train)\n",
        "report_train = classification_report(y_train, y_pred_train, output_dict=True)\n",
        "\n",
        "# Calcular métricas para validación\n",
        "acc_val = accuracy_score(y_val, y_pred_val)\n",
        "report_val = classification_report(y_val, y_pred_val, output_dict=True)\n"
      ],
      "metadata": {
        "id": "168dzc4v3DCD"
      },
      "execution_count": null,
      "outputs": []
    },
    {
      "cell_type": "code",
      "source": [
        "# Imprimir resultados\n",
        "print(\"Métricas de entrenamiento:\")\n",
        "print(f\"Accuracy: {acc_train}\")\n",
        "print(report_train)\n",
        "\n",
        "print(\"\\nMétricas de validación:\")\n",
        "print(f\"Accuracy: {acc_val}\")\n",
        "print(report_val)"
      ],
      "metadata": {
        "colab": {
          "base_uri": "https://localhost:8080/"
        },
        "id": "kEdu1NRB3P6q",
        "outputId": "f841aed0-6260-4535-8522-f51c22d4e488"
      },
      "execution_count": null,
      "outputs": [
        {
          "output_type": "stream",
          "name": "stdout",
          "text": [
            "Métricas de entrenamiento:\n",
            "Accuracy: 0.9010989010989011\n",
            "{'0': {'precision': 0.9333333333333333, 'recall': 0.875, 'f1-score': 0.9032258064516129, 'support': 48}, '1': {'precision': 0.8695652173913043, 'recall': 0.9302325581395349, 'f1-score': 0.898876404494382, 'support': 43}, 'accuracy': 0.9010989010989011, 'macro avg': {'precision': 0.9014492753623189, 'recall': 0.9026162790697674, 'f1-score': 0.9010511054729975, 'support': 91}, 'weighted avg': {'precision': 0.9032011466794074, 'recall': 0.9010989010989011, 'f1-score': 0.9011705945377565, 'support': 91}}\n",
            "\n",
            "Métricas de validación:\n",
            "Accuracy: 0.95\n",
            "{'0': {'precision': 0.9523809523809523, 'recall': 0.9523809523809523, 'f1-score': 0.9523809523809523, 'support': 21}, '1': {'precision': 0.9473684210526315, 'recall': 0.9473684210526315, 'f1-score': 0.9473684210526315, 'support': 19}, 'accuracy': 0.95, 'macro avg': {'precision': 0.949874686716792, 'recall': 0.949874686716792, 'f1-score': 0.949874686716792, 'support': 40}, 'weighted avg': {'precision': 0.95, 'recall': 0.95, 'f1-score': 0.95, 'support': 40}}\n"
          ]
        }
      ]
    },
    {
      "cell_type": "code",
      "source": [
        "# Crear tabla comparativa\n",
        "metrics_df = pd.DataFrame({\n",
        "    'Métrica': ['Accuracy', 'Precision (macro)', 'Recall (macro)', 'F1-score (macro)'],\n",
        "    'Entrenamiento': [acc_train,\n",
        "                       report_train['macro avg']['precision'],\n",
        "                       report_train['macro avg']['recall'],\n",
        "                       report_train['macro avg']['f1-score']],\n",
        "    'Validación': [acc_val,\n",
        "                     report_val['macro avg']['precision'],\n",
        "                     report_val['macro avg']['recall'],\n",
        "                     report_val['macro avg']['f1-score']]\n",
        "})\n",
        "\n",
        "# Mostrar tabla\n",
        "display(metrics_df)"
      ],
      "metadata": {
        "colab": {
          "base_uri": "https://localhost:8080/",
          "height": 175
        },
        "id": "IuvO8PyZ3TL5",
        "outputId": "38823470-5a89-4e18-9136-ae43eef0cb97"
      },
      "execution_count": null,
      "outputs": [
        {
          "output_type": "display_data",
          "data": {
            "text/plain": [
              "             Métrica  Entrenamiento  Validación\n",
              "0           Accuracy       0.901099    0.950000\n",
              "1  Precision (macro)       0.901449    0.949875\n",
              "2     Recall (macro)       0.902616    0.949875\n",
              "3   F1-score (macro)       0.901051    0.949875"
            ],
            "text/html": [
              "\n",
              "  <div id=\"df-1d9f2369-5ce5-42b1-8a21-cde3eb208010\" class=\"colab-df-container\">\n",
              "    <div>\n",
              "<style scoped>\n",
              "    .dataframe tbody tr th:only-of-type {\n",
              "        vertical-align: middle;\n",
              "    }\n",
              "\n",
              "    .dataframe tbody tr th {\n",
              "        vertical-align: top;\n",
              "    }\n",
              "\n",
              "    .dataframe thead th {\n",
              "        text-align: right;\n",
              "    }\n",
              "</style>\n",
              "<table border=\"1\" class=\"dataframe\">\n",
              "  <thead>\n",
              "    <tr style=\"text-align: right;\">\n",
              "      <th></th>\n",
              "      <th>Métrica</th>\n",
              "      <th>Entrenamiento</th>\n",
              "      <th>Validación</th>\n",
              "    </tr>\n",
              "  </thead>\n",
              "  <tbody>\n",
              "    <tr>\n",
              "      <th>0</th>\n",
              "      <td>Accuracy</td>\n",
              "      <td>0.901099</td>\n",
              "      <td>0.950000</td>\n",
              "    </tr>\n",
              "    <tr>\n",
              "      <th>1</th>\n",
              "      <td>Precision (macro)</td>\n",
              "      <td>0.901449</td>\n",
              "      <td>0.949875</td>\n",
              "    </tr>\n",
              "    <tr>\n",
              "      <th>2</th>\n",
              "      <td>Recall (macro)</td>\n",
              "      <td>0.902616</td>\n",
              "      <td>0.949875</td>\n",
              "    </tr>\n",
              "    <tr>\n",
              "      <th>3</th>\n",
              "      <td>F1-score (macro)</td>\n",
              "      <td>0.901051</td>\n",
              "      <td>0.949875</td>\n",
              "    </tr>\n",
              "  </tbody>\n",
              "</table>\n",
              "</div>\n",
              "    <div class=\"colab-df-buttons\">\n",
              "\n",
              "  <div class=\"colab-df-container\">\n",
              "    <button class=\"colab-df-convert\" onclick=\"convertToInteractive('df-1d9f2369-5ce5-42b1-8a21-cde3eb208010')\"\n",
              "            title=\"Convert this dataframe to an interactive table.\"\n",
              "            style=\"display:none;\">\n",
              "\n",
              "  <svg xmlns=\"http://www.w3.org/2000/svg\" height=\"24px\" viewBox=\"0 -960 960 960\">\n",
              "    <path d=\"M120-120v-720h720v720H120Zm60-500h600v-160H180v160Zm220 220h160v-160H400v160Zm0 220h160v-160H400v160ZM180-400h160v-160H180v160Zm440 0h160v-160H620v160ZM180-180h160v-160H180v160Zm440 0h160v-160H620v160Z\"/>\n",
              "  </svg>\n",
              "    </button>\n",
              "\n",
              "  <style>\n",
              "    .colab-df-container {\n",
              "      display:flex;\n",
              "      gap: 12px;\n",
              "    }\n",
              "\n",
              "    .colab-df-convert {\n",
              "      background-color: #E8F0FE;\n",
              "      border: none;\n",
              "      border-radius: 50%;\n",
              "      cursor: pointer;\n",
              "      display: none;\n",
              "      fill: #1967D2;\n",
              "      height: 32px;\n",
              "      padding: 0 0 0 0;\n",
              "      width: 32px;\n",
              "    }\n",
              "\n",
              "    .colab-df-convert:hover {\n",
              "      background-color: #E2EBFA;\n",
              "      box-shadow: 0px 1px 2px rgba(60, 64, 67, 0.3), 0px 1px 3px 1px rgba(60, 64, 67, 0.15);\n",
              "      fill: #174EA6;\n",
              "    }\n",
              "\n",
              "    .colab-df-buttons div {\n",
              "      margin-bottom: 4px;\n",
              "    }\n",
              "\n",
              "    [theme=dark] .colab-df-convert {\n",
              "      background-color: #3B4455;\n",
              "      fill: #D2E3FC;\n",
              "    }\n",
              "\n",
              "    [theme=dark] .colab-df-convert:hover {\n",
              "      background-color: #434B5C;\n",
              "      box-shadow: 0px 1px 3px 1px rgba(0, 0, 0, 0.15);\n",
              "      filter: drop-shadow(0px 1px 2px rgba(0, 0, 0, 0.3));\n",
              "      fill: #FFFFFF;\n",
              "    }\n",
              "  </style>\n",
              "\n",
              "    <script>\n",
              "      const buttonEl =\n",
              "        document.querySelector('#df-1d9f2369-5ce5-42b1-8a21-cde3eb208010 button.colab-df-convert');\n",
              "      buttonEl.style.display =\n",
              "        google.colab.kernel.accessAllowed ? 'block' : 'none';\n",
              "\n",
              "      async function convertToInteractive(key) {\n",
              "        const element = document.querySelector('#df-1d9f2369-5ce5-42b1-8a21-cde3eb208010');\n",
              "        const dataTable =\n",
              "          await google.colab.kernel.invokeFunction('convertToInteractive',\n",
              "                                                    [key], {});\n",
              "        if (!dataTable) return;\n",
              "\n",
              "        const docLinkHtml = 'Like what you see? Visit the ' +\n",
              "          '<a target=\"_blank\" href=https://colab.research.google.com/notebooks/data_table.ipynb>data table notebook</a>'\n",
              "          + ' to learn more about interactive tables.';\n",
              "        element.innerHTML = '';\n",
              "        dataTable['output_type'] = 'display_data';\n",
              "        await google.colab.output.renderOutput(dataTable, element);\n",
              "        const docLink = document.createElement('div');\n",
              "        docLink.innerHTML = docLinkHtml;\n",
              "        element.appendChild(docLink);\n",
              "      }\n",
              "    </script>\n",
              "  </div>\n",
              "\n",
              "\n",
              "<div id=\"df-138c7862-e9f0-4056-b6c3-ec546306c1ba\">\n",
              "  <button class=\"colab-df-quickchart\" onclick=\"quickchart('df-138c7862-e9f0-4056-b6c3-ec546306c1ba')\"\n",
              "            title=\"Suggest charts\"\n",
              "            style=\"display:none;\">\n",
              "\n",
              "<svg xmlns=\"http://www.w3.org/2000/svg\" height=\"24px\"viewBox=\"0 0 24 24\"\n",
              "     width=\"24px\">\n",
              "    <g>\n",
              "        <path d=\"M19 3H5c-1.1 0-2 .9-2 2v14c0 1.1.9 2 2 2h14c1.1 0 2-.9 2-2V5c0-1.1-.9-2-2-2zM9 17H7v-7h2v7zm4 0h-2V7h2v10zm4 0h-2v-4h2v4z\"/>\n",
              "    </g>\n",
              "</svg>\n",
              "  </button>\n",
              "\n",
              "<style>\n",
              "  .colab-df-quickchart {\n",
              "      --bg-color: #E8F0FE;\n",
              "      --fill-color: #1967D2;\n",
              "      --hover-bg-color: #E2EBFA;\n",
              "      --hover-fill-color: #174EA6;\n",
              "      --disabled-fill-color: #AAA;\n",
              "      --disabled-bg-color: #DDD;\n",
              "  }\n",
              "\n",
              "  [theme=dark] .colab-df-quickchart {\n",
              "      --bg-color: #3B4455;\n",
              "      --fill-color: #D2E3FC;\n",
              "      --hover-bg-color: #434B5C;\n",
              "      --hover-fill-color: #FFFFFF;\n",
              "      --disabled-bg-color: #3B4455;\n",
              "      --disabled-fill-color: #666;\n",
              "  }\n",
              "\n",
              "  .colab-df-quickchart {\n",
              "    background-color: var(--bg-color);\n",
              "    border: none;\n",
              "    border-radius: 50%;\n",
              "    cursor: pointer;\n",
              "    display: none;\n",
              "    fill: var(--fill-color);\n",
              "    height: 32px;\n",
              "    padding: 0;\n",
              "    width: 32px;\n",
              "  }\n",
              "\n",
              "  .colab-df-quickchart:hover {\n",
              "    background-color: var(--hover-bg-color);\n",
              "    box-shadow: 0 1px 2px rgba(60, 64, 67, 0.3), 0 1px 3px 1px rgba(60, 64, 67, 0.15);\n",
              "    fill: var(--button-hover-fill-color);\n",
              "  }\n",
              "\n",
              "  .colab-df-quickchart-complete:disabled,\n",
              "  .colab-df-quickchart-complete:disabled:hover {\n",
              "    background-color: var(--disabled-bg-color);\n",
              "    fill: var(--disabled-fill-color);\n",
              "    box-shadow: none;\n",
              "  }\n",
              "\n",
              "  .colab-df-spinner {\n",
              "    border: 2px solid var(--fill-color);\n",
              "    border-color: transparent;\n",
              "    border-bottom-color: var(--fill-color);\n",
              "    animation:\n",
              "      spin 1s steps(1) infinite;\n",
              "  }\n",
              "\n",
              "  @keyframes spin {\n",
              "    0% {\n",
              "      border-color: transparent;\n",
              "      border-bottom-color: var(--fill-color);\n",
              "      border-left-color: var(--fill-color);\n",
              "    }\n",
              "    20% {\n",
              "      border-color: transparent;\n",
              "      border-left-color: var(--fill-color);\n",
              "      border-top-color: var(--fill-color);\n",
              "    }\n",
              "    30% {\n",
              "      border-color: transparent;\n",
              "      border-left-color: var(--fill-color);\n",
              "      border-top-color: var(--fill-color);\n",
              "      border-right-color: var(--fill-color);\n",
              "    }\n",
              "    40% {\n",
              "      border-color: transparent;\n",
              "      border-right-color: var(--fill-color);\n",
              "      border-top-color: var(--fill-color);\n",
              "    }\n",
              "    60% {\n",
              "      border-color: transparent;\n",
              "      border-right-color: var(--fill-color);\n",
              "    }\n",
              "    80% {\n",
              "      border-color: transparent;\n",
              "      border-right-color: var(--fill-color);\n",
              "      border-bottom-color: var(--fill-color);\n",
              "    }\n",
              "    90% {\n",
              "      border-color: transparent;\n",
              "      border-bottom-color: var(--fill-color);\n",
              "    }\n",
              "  }\n",
              "</style>\n",
              "\n",
              "  <script>\n",
              "    async function quickchart(key) {\n",
              "      const quickchartButtonEl =\n",
              "        document.querySelector('#' + key + ' button');\n",
              "      quickchartButtonEl.disabled = true;  // To prevent multiple clicks.\n",
              "      quickchartButtonEl.classList.add('colab-df-spinner');\n",
              "      try {\n",
              "        const charts = await google.colab.kernel.invokeFunction(\n",
              "            'suggestCharts', [key], {});\n",
              "      } catch (error) {\n",
              "        console.error('Error during call to suggestCharts:', error);\n",
              "      }\n",
              "      quickchartButtonEl.classList.remove('colab-df-spinner');\n",
              "      quickchartButtonEl.classList.add('colab-df-quickchart-complete');\n",
              "    }\n",
              "    (() => {\n",
              "      let quickchartButtonEl =\n",
              "        document.querySelector('#df-138c7862-e9f0-4056-b6c3-ec546306c1ba button');\n",
              "      quickchartButtonEl.style.display =\n",
              "        google.colab.kernel.accessAllowed ? 'block' : 'none';\n",
              "    })();\n",
              "  </script>\n",
              "</div>\n",
              "\n",
              "  <div id=\"id_8a600156-0710-4b15-a1a9-5c4fae145d80\">\n",
              "    <style>\n",
              "      .colab-df-generate {\n",
              "        background-color: #E8F0FE;\n",
              "        border: none;\n",
              "        border-radius: 50%;\n",
              "        cursor: pointer;\n",
              "        display: none;\n",
              "        fill: #1967D2;\n",
              "        height: 32px;\n",
              "        padding: 0 0 0 0;\n",
              "        width: 32px;\n",
              "      }\n",
              "\n",
              "      .colab-df-generate:hover {\n",
              "        background-color: #E2EBFA;\n",
              "        box-shadow: 0px 1px 2px rgba(60, 64, 67, 0.3), 0px 1px 3px 1px rgba(60, 64, 67, 0.15);\n",
              "        fill: #174EA6;\n",
              "      }\n",
              "\n",
              "      [theme=dark] .colab-df-generate {\n",
              "        background-color: #3B4455;\n",
              "        fill: #D2E3FC;\n",
              "      }\n",
              "\n",
              "      [theme=dark] .colab-df-generate:hover {\n",
              "        background-color: #434B5C;\n",
              "        box-shadow: 0px 1px 3px 1px rgba(0, 0, 0, 0.15);\n",
              "        filter: drop-shadow(0px 1px 2px rgba(0, 0, 0, 0.3));\n",
              "        fill: #FFFFFF;\n",
              "      }\n",
              "    </style>\n",
              "    <button class=\"colab-df-generate\" onclick=\"generateWithVariable('metrics_df')\"\n",
              "            title=\"Generate code using this dataframe.\"\n",
              "            style=\"display:none;\">\n",
              "\n",
              "  <svg xmlns=\"http://www.w3.org/2000/svg\" height=\"24px\"viewBox=\"0 0 24 24\"\n",
              "       width=\"24px\">\n",
              "    <path d=\"M7,19H8.4L18.45,9,17,7.55,7,17.6ZM5,21V16.75L18.45,3.32a2,2,0,0,1,2.83,0l1.4,1.43a1.91,1.91,0,0,1,.58,1.4,1.91,1.91,0,0,1-.58,1.4L9.25,21ZM18.45,9,17,7.55Zm-12,3A5.31,5.31,0,0,0,4.9,8.1,5.31,5.31,0,0,0,1,6.5,5.31,5.31,0,0,0,4.9,4.9,5.31,5.31,0,0,0,6.5,1,5.31,5.31,0,0,0,8.1,4.9,5.31,5.31,0,0,0,12,6.5,5.46,5.46,0,0,0,6.5,12Z\"/>\n",
              "  </svg>\n",
              "    </button>\n",
              "    <script>\n",
              "      (() => {\n",
              "      const buttonEl =\n",
              "        document.querySelector('#id_8a600156-0710-4b15-a1a9-5c4fae145d80 button.colab-df-generate');\n",
              "      buttonEl.style.display =\n",
              "        google.colab.kernel.accessAllowed ? 'block' : 'none';\n",
              "\n",
              "      buttonEl.onclick = () => {\n",
              "        google.colab.notebook.generateWithVariable('metrics_df');\n",
              "      }\n",
              "      })();\n",
              "    </script>\n",
              "  </div>\n",
              "\n",
              "    </div>\n",
              "  </div>\n"
            ],
            "application/vnd.google.colaboratory.intrinsic+json": {
              "type": "dataframe",
              "variable_name": "metrics_df",
              "summary": "{\n  \"name\": \"metrics_df\",\n  \"rows\": 4,\n  \"fields\": [\n    {\n      \"column\": \"M\\u00e9trica\",\n      \"properties\": {\n        \"dtype\": \"string\",\n        \"num_unique_values\": 4,\n        \"samples\": [\n          \"Precision (macro)\",\n          \"F1-score (macro)\",\n          \"Accuracy\"\n        ],\n        \"semantic_type\": \"\",\n        \"description\": \"\"\n      }\n    },\n    {\n      \"column\": \"Entrenamiento\",\n      \"properties\": {\n        \"dtype\": \"number\",\n        \"std\": 0.000730164807582142,\n        \"min\": 0.9010511054729975,\n        \"max\": 0.9026162790697674,\n        \"num_unique_values\": 4,\n        \"samples\": [\n          0.9014492753623189,\n          0.9010511054729975,\n          0.9010989010989011\n        ],\n        \"semantic_type\": \"\",\n        \"description\": \"\"\n      }\n    },\n    {\n      \"column\": \"Validaci\\u00f3n\",\n      \"properties\": {\n        \"dtype\": \"number\",\n        \"std\": 6.265664160398643e-05,\n        \"min\": 0.949874686716792,\n        \"max\": 0.95,\n        \"num_unique_values\": 2,\n        \"samples\": [\n          0.949874686716792,\n          0.95\n        ],\n        \"semantic_type\": \"\",\n        \"description\": \"\"\n      }\n    }\n  ]\n}"
            }
          },
          "metadata": {}
        }
      ]
    },
    {
      "cell_type": "code",
      "source": [
        "import matplotlib.pyplot as plt"
      ],
      "metadata": {
        "id": "VIAcPmFO3ecb"
      },
      "execution_count": null,
      "outputs": []
    },
    {
      "cell_type": "code",
      "source": [
        "# Datos para las gráficas\n",
        "metrics = ['Accuracy', 'Precision (macro)', 'Recall (macro)', 'F1-score (macro)']\n",
        "train_values = [acc_train,\n",
        "                report_train['macro avg']['precision'],\n",
        "                report_train['macro avg']['recall'],\n",
        "                report_train['macro avg']['f1-score']]\n",
        "val_values = [acc_val,\n",
        "              report_val['macro avg']['precision'],\n",
        "              report_val['macro avg']['recall'],\n",
        "              report_val['macro avg']['f1-score']]"
      ],
      "metadata": {
        "id": "RBuRV3BU3ilB"
      },
      "execution_count": null,
      "outputs": []
    },
    {
      "cell_type": "code",
      "source": [
        "# Crear gráficas\n",
        "fig, axes = plt.subplots(2, 2, figsize=(10, 8))\n",
        "fig.suptitle('Comparación de Métricas: Entrenamiento vs. Validación')\n",
        "\n",
        "for i, metric in enumerate(metrics):\n",
        "    row = i // 2\n",
        "    col = i % 2\n",
        "    ax = axes[row, col]\n",
        "    bars = ax.bar(['Entrenamiento', 'Validación'], [train_values[i], val_values[i]], color=['#4CAF50', '#2196F3']) # Verde y azul\n",
        "    ax.set_title(metric)\n",
        "    ax.set_ylabel('Valor')\n",
        "\n",
        "    # Etiquetas encima de las barras\n",
        "    for bar in bars:\n",
        "        yval = bar.get_height()\n",
        "        ax.text(bar.get_x() + bar.get_width()/2, yval, round(yval, 3), ha='center', va='bottom')\n",
        "\n",
        "plt.tight_layout()\n",
        "plt.show()"
      ],
      "metadata": {
        "colab": {
          "base_uri": "https://localhost:8080/",
          "height": 806
        },
        "id": "gVGgKmC-3nQC",
        "outputId": "807b9c19-6f24-431f-8ce6-858bc992661a"
      },
      "execution_count": null,
      "outputs": [
        {
          "output_type": "display_data",
          "data": {
            "text/plain": [
              "<Figure size 1000x800 with 4 Axes>"
            ],
            "image/png": "[encoded data removed]"
          },
          "metadata": {}
        }
      ]
    },
    {
      "cell_type": "code",
      "source": [
        "!pip install --upgrade scikit-learn  # Upgrade scikit-learn to the latest version"
      ],
      "metadata": {
        "colab": {
          "base_uri": "https://localhost:8080/"
        },
        "id": "LcNO99tP3ttp",
        "outputId": "8e17ed20-f806-4d1b-8d41-f21040f6e013"
      },
      "execution_count": null,
      "outputs": [
        {
          "output_type": "stream",
          "name": "stdout",
          "text": [
            "Requirement already satisfied: scikit-learn in /usr/local/lib/python3.10/dist-packages (1.2.2)\n",
            "Collecting scikit-learn\n",
            "  Downloading scikit_learn-1.5.1-cp310-cp310-manylinux_2_17_x86_64.manylinux2014_x86_64.whl (13.4 MB)\n",
            "\u001b[2K     \u001b[90m━━━━━━━━━━━━━━━━━━━━━━━━━━━━━━━━━━━━━━━━\u001b[0m \u001b[32m13.4/13.4 MB\u001b[0m \u001b[31m24.8 MB/s\u001b[0m eta \u001b[36m0:00:00\u001b[0m\n",
            "\u001b[?25hRequirement already satisfied: numpy>=1.19.5 in /usr/local/lib/python3.10/dist-packages (from scikit-learn) (1.25.2)\n",
            "Requirement already satisfied: scipy>=1.6.0 in /usr/local/lib/python3.10/dist-packages (from scikit-learn) (1.11.4)\n",
            "Requirement already satisfied: joblib>=1.2.0 in /usr/local/lib/python3.10/dist-packages (from scikit-learn) (1.4.2)\n",
            "Requirement already satisfied: threadpoolctl>=3.1.0 in /usr/local/lib/python3.10/dist-packages (from scikit-learn) (3.5.0)\n",
            "Installing collected packages: scikit-learn\n",
            "  Attempting uninstall: scikit-learn\n",
            "    Found existing installation: scikit-learn 1.2.2\n",
            "    Uninstalling scikit-learn-1.2.2:\n",
            "      Successfully uninstalled scikit-learn-1.2.2\n",
            "Successfully installed scikit-learn-1.5.1\n"
          ]
        }
      ]
    },
    {
      "cell_type": "code",
      "source": [
        "from sklearn.metrics import confusion_matrix, ConfusionMatrixDisplay"
      ],
      "metadata": {
        "id": "sHuQ_c7d4VFJ"
      },
      "execution_count": null,
      "outputs": []
    },
    {
      "cell_type": "code",
      "source": [
        "from sklearn.metrics import confusion_matrix, ConfusionMatrixDisplay  # Import ConfusionMatrixDisplay\n",
        "\n",
        "# Matriz de confusión para validación\n",
        "cm_val = confusion_matrix(y_val, y_pred_val)\n",
        "disp_val = ConfusionMatrixDisplay(confusion_matrix=cm_val, display_labels=best_rf.classes_) # Use ConfusionMatrixDisplay instead of ConfusionDisplay\n",
        "disp_val.plot(cmap='Blues')\n",
        "plt.title('Matriz de Confusión - Validación')\n",
        "plt.show()"
      ],
      "metadata": {
        "colab": {
          "base_uri": "https://localhost:8080/",
          "height": 472
        },
        "id": "tbwmSGZE4XCp",
        "outputId": "28e8d439-4dcc-46e3-91c1-1f0814526375"
      },
      "execution_count": null,
      "outputs": [
        {
          "output_type": "display_data",
          "data": {
            "text/plain": [
              "<Figure size 640x480 with 2 Axes>"
            ],
            "image/png": "[encoded data removed]"
          },
          "metadata": {}
        }
      ]
    },
    {
      "cell_type": "code",
      "source": [
        "from sklearn.metrics import confusion_matrix, ConfusionMatrixDisplay  # Import ConfusionMatrixDisplay\n",
        "\n",
        "# Matriz de confusión para entrenamiento\n",
        "cm_train = confusion_matrix(y_train, y_pred_train)\n",
        "disp_train = ConfusionMatrixDisplay(confusion_matrix=cm_train, display_labels=best_rf.classes_) # Use ConfusionMatrixDisplay instead of ConfusionDisplay\n",
        "disp_train.plot(cmap='Blues')\n",
        "plt.title('Matriz de Confusión - Entrenamiento')\n",
        "plt.show()"
      ],
      "metadata": {
        "colab": {
          "base_uri": "https://localhost:8080/",
          "height": 472
        },
        "id": "Hp4DkMIx4awA",
        "outputId": "9bde4342-d782-4de0-87e2-aa0454066083"
      },
      "execution_count": null,
      "outputs": [
        {
          "output_type": "display_data",
          "data": {
            "text/plain": [
              "<Figure size 640x480 with 2 Axes>"
            ],
            "image/png": "[encoded data removed]"
          },
          "metadata": {}
        }
      ]
    },
    {
      "cell_type": "code",
      "source": [
        "import matplotlib.pyplot as plt\n",
        "import pandas as pd"
      ],
      "metadata": {
        "id": "C2sCt0jN4f-R"
      },
      "execution_count": null,
      "outputs": []
    },
    {
      "cell_type": "code",
      "source": [
        "from sklearn.metrics import roc_curve, auc\n",
        "import matplotlib.pyplot as plt"
      ],
      "metadata": {
        "id": "84eM-LEz4lXZ"
      },
      "execution_count": null,
      "outputs": []
    },
    {
      "cell_type": "code",
      "source": [
        "# Reshape X_train to be 2D\n",
        "X_train_reshaped = X_train.reshape(X_train.shape[0], -1)\n",
        "\n",
        "# Now pass the reshaped data to predict_proba\n",
        "y_pred_train_proba = best_rf.predict_proba(X_train_reshaped)[:, 0]\n",
        "\n",
        "# Similarly, reshape X_val if you're using it later\n",
        "X_val_reshaped = X_val.reshape(X_val.shape[0], -1)\n",
        "y_pred_val_proba = best_rf.predict_proba(X_val_reshaped)[:, 0]"
      ],
      "metadata": {
        "id": "x4uuC6hH45Zv"
      },
      "execution_count": null,
      "outputs": []
    },
    {
      "cell_type": "code",
      "source": [
        "\n",
        "# Calcular curva ROC\n",
        "fpr_train, tpr_train, _ = roc_curve(y_train_bin, y_pred_train_proba)\n",
        "roc_auc_train = auc(fpr_train, tpr_train)\n",
        "fpr_val, tpr_val, _ = roc_curve(y_val_bin, y_pred_val_proba)\n",
        "roc_auc_val = auc(fpr_val, tpr_val)\n"
      ],
      "metadata": {
        "id": "EjzdoTih4neA"
      },
      "execution_count": null,
      "outputs": []
    },
    {
      "cell_type": "code",
      "source": [
        "import seaborn as sns\n",
        "import matplotlib.pyplot as plt"
      ],
      "metadata": {
        "id": "8KHMugOh5Cy4"
      },
      "execution_count": null,
      "outputs": []
    },
    {
      "cell_type": "code",
      "source": [
        "# Graficar curva ROC con seaborn\n",
        "sns.set_style(\"whitegrid\")  # Establecer estilo de seaborn\n",
        "plt.figure(figsize=(8, 6))\n",
        "sns.lineplot(x=fpr_train, y=tpr_train, color='#4CAF50', lw=2, label='Entrenamiento (AUC = %0.2f)' % roc_auc_train)\n",
        "sns.lineplot(x=fpr_val, y=tpr_val, color='#2196F3', lw=2, label='Validación (AUC = %0.2f)' % roc_auc_val)\n",
        "plt.plot([0, 1], [0, 1], color='gray', lw=2, linestyle='--')\n",
        "plt.xlim([0.0, 1.0])\n",
        "plt.ylim([0.0, 1.05])\n",
        "plt.xlabel('Tasa de Falsos Positivos', fontsize=12)\n",
        "plt.ylabel('Tasa de Verdaderos Positivos', fontsize=12)\n",
        "plt.title('Curva ROC', fontsize=14)\n",
        "plt.legend(loc=\"lower right\", fontsize=10)\n",
        "plt.show()"
      ],
      "metadata": {
        "colab": {
          "base_uri": "https://localhost:8080/",
          "height": 569
        },
        "id": "x0Jwxk5f5FAW",
        "outputId": "5d4147de-30c7-4885-c78a-9ed42c119473"
      },
      "execution_count": null,
      "outputs": [
        {
          "output_type": "display_data",
          "data": {
            "text/plain": [
              "<Figure size 800x600 with 1 Axes>"
            ],
            "image/png": "[encoded data removed]"
          },
          "metadata": {}
        }
      ]
    },
    {
      "cell_type": "markdown",
      "source": [
        "Pruebas"
      ],
      "metadata": {
        "id": "N2vyxQjk5MSn"
      }
    },
    {
      "cell_type": "code",
      "source": [
        "!pip install torch"
      ],
      "metadata": {
        "colab": {
          "base_uri": "https://localhost:8080/"
        },
        "id": "Flr1Ntyv5IY0",
        "outputId": "4a788dbb-2eb3-4da6-b879-aacb00c6594d"
      },
      "execution_count": null,
      "outputs": [
        {
          "output_type": "stream",
          "name": "stdout",
          "text": [
            "Requirement already satisfied: torch in /usr/local/lib/python3.10/dist-packages (2.3.1+cu121)\n",
            "Requirement already satisfied: filelock in /usr/local/lib/python3.10/dist-packages (from torch) (3.15.4)\n",
            "Requirement already satisfied: typing-extensions>=4.8.0 in /usr/local/lib/python3.10/dist-packages (from torch) (4.12.2)\n",
            "Requirement already satisfied: sympy in /usr/local/lib/python3.10/dist-packages (from torch) (1.13.0)\n",
            "Requirement already satisfied: networkx in /usr/local/lib/python3.10/dist-packages (from torch) (3.3)\n",
            "Requirement already satisfied: jinja2 in /usr/local/lib/python3.10/dist-packages (from torch) (3.1.4)\n",
            "Requirement already satisfied: fsspec in /usr/local/lib/python3.10/dist-packages (from torch) (2023.6.0)\n",
            "Collecting nvidia-cuda-nvrtc-cu12==12.1.105 (from torch)\n",
            "  Using cached nvidia_cuda_nvrtc_cu12-12.1.105-py3-none-manylinux1_x86_64.whl (23.7 MB)\n",
            "Collecting nvidia-cuda-runtime-cu12==12.1.105 (from torch)\n",
            "  Using cached nvidia_cuda_runtime_cu12-12.1.105-py3-none-manylinux1_x86_64.whl (823 kB)\n",
            "Collecting nvidia-cuda-cupti-cu12==12.1.105 (from torch)\n",
            "  Using cached nvidia_cuda_cupti_cu12-12.1.105-py3-none-manylinux1_x86_64.whl (14.1 MB)\n",
            "Collecting nvidia-cudnn-cu12==8.9.2.26 (from torch)\n",
            "  Using cached nvidia_cudnn_cu12-8.9.2.26-py3-none-manylinux1_x86_64.whl (731.7 MB)\n",
            "Collecting nvidia-cublas-cu12==12.1.3.1 (from torch)\n",
            "  Using cached nvidia_cublas_cu12-12.1.3.1-py3-none-manylinux1_x86_64.whl (410.6 MB)\n",
            "Collecting nvidia-cufft-cu12==11.0.2.54 (from torch)\n",
            "  Using cached nvidia_cufft_cu12-11.0.2.54-py3-none-manylinux1_x86_64.whl (121.6 MB)\n",
            "Collecting nvidia-curand-cu12==10.3.2.106 (from torch)\n",
            "  Using cached nvidia_curand_cu12-10.3.2.106-py3-none-manylinux1_x86_64.whl (56.5 MB)\n",
            "Collecting nvidia-cusolver-cu12==11.4.5.107 (from torch)\n",
            "  Using cached nvidia_cusolver_cu12-11.4.5.107-py3-none-manylinux1_x86_64.whl (124.2 MB)\n",
            "Collecting nvidia-cusparse-cu12==12.1.0.106 (from torch)\n",
            "  Using cached nvidia_cusparse_cu12-12.1.0.106-py3-none-manylinux1_x86_64.whl (196.0 MB)\n",
            "Collecting nvidia-nccl-cu12==2.20.5 (from torch)\n",
            "  Using cached nvidia_nccl_cu12-2.20.5-py3-none-manylinux2014_x86_64.whl (176.2 MB)\n",
            "Collecting nvidia-nvtx-cu12==12.1.105 (from torch)\n",
            "  Using cached nvidia_nvtx_cu12-12.1.105-py3-none-manylinux1_x86_64.whl (99 kB)\n",
            "Requirement already satisfied: triton==2.3.1 in /usr/local/lib/python3.10/dist-packages (from torch) (2.3.1)\n",
            "Collecting nvidia-nvjitlink-cu12 (from nvidia-cusolver-cu12==11.4.5.107->torch)\n",
            "  Downloading nvidia_nvjitlink_cu12-12.5.82-py3-none-manylinux2014_x86_64.whl (21.3 MB)\n",
            "\u001b[2K     \u001b[90m━━━━━━━━━━━━━━━━━━━━━━━━━━━━━━━━━━━━━━━━\u001b[0m \u001b[32m21.3/21.3 MB\u001b[0m \u001b[31m33.9 MB/s\u001b[0m eta \u001b[36m0:00:00\u001b[0m\n",
            "\u001b[?25hRequirement already satisfied: MarkupSafe>=2.0 in /usr/local/lib/python3.10/dist-packages (from jinja2->torch) (2.1.5)\n",
            "Requirement already satisfied: mpmath<1.4,>=1.1.0 in /usr/local/lib/python3.10/dist-packages (from sympy->torch) (1.3.0)\n",
            "Installing collected packages: nvidia-nvtx-cu12, nvidia-nvjitlink-cu12, nvidia-nccl-cu12, nvidia-curand-cu12, nvidia-cufft-cu12, nvidia-cuda-runtime-cu12, nvidia-cuda-nvrtc-cu12, nvidia-cuda-cupti-cu12, nvidia-cublas-cu12, nvidia-cusparse-cu12, nvidia-cudnn-cu12, nvidia-cusolver-cu12\n",
            "Successfully installed nvidia-cublas-cu12-12.1.3.1 nvidia-cuda-cupti-cu12-12.1.105 nvidia-cuda-nvrtc-cu12-12.1.105 nvidia-cuda-runtime-cu12-12.1.105 nvidia-cudnn-cu12-8.9.2.26 nvidia-cufft-cu12-11.0.2.54 nvidia-curand-cu12-10.3.2.106 nvidia-cusolver-cu12-11.4.5.107 nvidia-cusparse-cu12-12.1.0.106 nvidia-nccl-cu12-2.20.5 nvidia-nvjitlink-cu12-12.5.82 nvidia-nvtx-cu12-12.1.105\n"
          ]
        }
      ]
    },
    {
      "cell_type": "code",
      "source": [
        "import torch # Import the torch module"
      ],
      "metadata": {
        "id": "z7Ax4Rhd5moQ"
      },
      "execution_count": null,
      "outputs": []
    },
    {
      "cell_type": "code",
      "source": [
        "!pip install transformers\n",
        "# Cargar el modelo BERT en español\n",
        "from transformers import BertTokenizer, BertModel\n",
        "tokenizer = BertTokenizer.from_pretrained('dccuchile/bert-base-spanish-wwm-uncased')\n",
        "model = BertModel.from_pretrained('dccuchile/bert-base-spanish-wwm-uncased')"
      ],
      "metadata": {
        "colab": {
          "base_uri": "https://localhost:8080/"
        },
        "id": "4EEGhoOf5pWg",
        "outputId": "5026ce06-7e40-45e2-dcff-4fbbfb28c72b"
      },
      "execution_count": null,
      "outputs": [
        {
          "output_type": "stream",
          "name": "stdout",
          "text": [
            "Requirement already satisfied: transformers in /usr/local/lib/python3.10/dist-packages (4.28.1)\n",
            "Requirement already satisfied: filelock in /usr/local/lib/python3.10/dist-packages (from transformers) (3.15.4)\n",
            "Requirement already satisfied: huggingface-hub<1.0,>=0.11.0 in /usr/local/lib/python3.10/dist-packages (from transformers) (0.23.5)\n",
            "Requirement already satisfied: numpy>=1.17 in /usr/local/lib/python3.10/dist-packages (from transformers) (1.25.2)\n",
            "Requirement already satisfied: packaging>=20.0 in /usr/local/lib/python3.10/dist-packages (from transformers) (24.1)\n",
            "Requirement already satisfied: pyyaml>=5.1 in /usr/local/lib/python3.10/dist-packages (from transformers) (6.0.1)\n",
            "Requirement already satisfied: regex!=2019.12.17 in /usr/local/lib/python3.10/dist-packages (from transformers) (2024.5.15)\n",
            "Requirement already satisfied: requests in /usr/local/lib/python3.10/dist-packages (from transformers) (2.31.0)\n",
            "Requirement already satisfied: tokenizers!=0.11.3,<0.14,>=0.11.1 in /usr/local/lib/python3.10/dist-packages (from transformers) (0.13.3)\n",
            "Requirement already satisfied: tqdm>=4.27 in /usr/local/lib/python3.10/dist-packages (from transformers) (4.66.4)\n",
            "Requirement already satisfied: fsspec>=2023.5.0 in /usr/local/lib/python3.10/dist-packages (from huggingface-hub<1.0,>=0.11.0->transformers) (2023.6.0)\n",
            "Requirement already satisfied: typing-extensions>=3.7.4.3 in /usr/local/lib/python3.10/dist-packages (from huggingface-hub<1.0,>=0.11.0->transformers) (4.12.2)\n",
            "Requirement already satisfied: charset-normalizer<4,>=2 in /usr/local/lib/python3.10/dist-packages (from requests->transformers) (3.3.2)\n",
            "Requirement already satisfied: idna<4,>=2.5 in /usr/local/lib/python3.10/dist-packages (from requests->transformers) (3.7)\n",
            "Requirement already satisfied: urllib3<3,>=1.21.1 in /usr/local/lib/python3.10/dist-packages (from requests->transformers) (2.0.7)\n",
            "Requirement already satisfied: certifi>=2017.4.17 in /usr/local/lib/python3.10/dist-packages (from requests->transformers) (2024.7.4)\n"
          ]
        },
        {
          "output_type": "stream",
          "name": "stderr",
          "text": [
            "/usr/local/lib/python3.10/dist-packages/huggingface_hub/file_download.py:1132: FutureWarning: `resume_download` is deprecated and will be removed in version 1.0.0. Downloads always resume when possible. If you want to force a new download, use `force_download=True`.\n",
            "  warnings.warn(\n",
            "Some weights of the model checkpoint at dccuchile/bert-base-spanish-wwm-uncased were not used when initializing BertModel: ['cls.predictions.transform.dense.weight', 'cls.predictions.transform.dense.bias', 'cls.predictions.decoder.weight', 'cls.predictions.transform.LayerNorm.weight', 'cls.predictions.bias', 'cls.predictions.decoder.bias', 'cls.predictions.transform.LayerNorm.bias']\n",
            "- This IS expected if you are initializing BertModel from the checkpoint of a model trained on another task or with another architecture (e.g. initializing a BertForSequenceClassification model from a BertForPreTraining model).\n",
            "- This IS NOT expected if you are initializing BertModel from the checkpoint of a model that you expect to be exactly identical (initializing a BertForSequenceClassification model from a BertForSequenceClassification model).\n"
          ]
        }
      ]
    },
    {
      "cell_type": "code",
      "source": [
        "def obtener_embeddings(texto):\n",
        "    # Tokenizar el texto\n",
        "    tokens = tokenizer(texto, return_tensors='pt', truncation=True, padding=True)\n",
        "\n",
        "    # Obtener los embeddings\n",
        "    with torch.no_grad():\n",
        "        outputs = model(**tokens)\n",
        "        embeddings = outputs.last_hidden_state.mean(dim=1).numpy()\n",
        "\n",
        "    return embeddings"
      ],
      "metadata": {
        "id": "X_uAt36f5x4P"
      },
      "execution_count": null,
      "outputs": []
    },
    {
      "cell_type": "markdown",
      "source": [
        "Prueba 1"
      ],
      "metadata": {
        "id": "hpOKXEuc50-q"
      }
    },
    {
      "cell_type": "code",
      "source": [
        "# Texto de prueba\n",
        "texto_prueba1 = \"El señor Carlos Hernán Malvehy, en calidad de apoderado especial de S3 Wireless, Phillip Stephenson, María Stephenson y John Stephenson, se entrevistó con Gina Achury de Servisatélite S.A. para entregarle acciones endosadas a favor de Servisatélite S.A. por el pago de $150,000 dólares, pero Servisatélite se negó a recibirlas.  Debido a la negativa de Servisatélite de recibir las acciones, Carlos Hernán Malvehy hizo la entrega de las acciones con su carta de traspaso. Existe una discusión sobre si la acción resolutoria es procedente cuando ambos contratantes han incumplido sus respectivas obligaciones.Se analiza el concepto de sustancia o calidad esencial de un objeto como causal de error que vicia el consentimiento\""
      ],
      "metadata": {
        "id": "gSspy5zX52RJ"
      },
      "execution_count": null,
      "outputs": []
    },
    {
      "cell_type": "code",
      "source": [
        "# Obtener los embeddings del texto de prueba\n",
        "embeddings_prueba1 = obtener_embeddings(texto_prueba1)"
      ],
      "metadata": {
        "id": "IJh7asej6Fix"
      },
      "execution_count": null,
      "outputs": []
    },
    {
      "cell_type": "code",
      "source": [
        "# Poner en prueba el modelo Random Forest (asumiendo que 'best_rf' está definido)\n",
        "prediccion = best_rf.predict(embeddings_prueba1)"
      ],
      "metadata": {
        "id": "M4QDs_Vz6Irf"
      },
      "execution_count": null,
      "outputs": []
    },
    {
      "cell_type": "code",
      "source": [
        "# Interpretar la predicción\n",
        "if prediccion[0] == 1:\n",
        "    resultado = \"Culpable\"\n",
        "else:\n",
        "    resultado = \"No culpable\""
      ],
      "metadata": {
        "id": "kJHtt5hE6Joe"
      },
      "execution_count": null,
      "outputs": []
    },
    {
      "cell_type": "code",
      "source": [
        "# Imprimir el resultado\n",
        "print(\"Predicción del modelo:\", resultado)"
      ],
      "metadata": {
        "colab": {
          "base_uri": "https://localhost:8080/"
        },
        "id": "wzUgY2Ad6NEO",
        "outputId": "626f7ea9-11c7-4a73-9a0d-f7804777b9a0"
      },
      "execution_count": null,
      "outputs": [
        {
          "output_type": "stream",
          "name": "stdout",
          "text": [
            "Predicción del modelo: No culpable\n"
          ]
        }
      ]
    },
    {
      "cell_type": "markdown",
      "source": [
        "Prueba 2"
      ],
      "metadata": {
        "id": "4B6jL-TN6Rh2"
      }
    },
    {
      "cell_type": "code",
      "source": [
        "# Texto de prueba\n",
        "texto_prueba2 = \"El administrador contrató a su esposa con dinero de la sociedad sin notificar a los socios de forma adecuada, no demostró la idoneidad\""
      ],
      "metadata": {
        "id": "wtYzgg-66Sf_"
      },
      "execution_count": null,
      "outputs": []
    },
    {
      "cell_type": "code",
      "source": [
        "# Obtener los embeddings del texto de prueba\n",
        "embeddings_prueba2 = obtener_embeddings(texto_prueba2)"
      ],
      "metadata": {
        "id": "01Q9Nr0m6gGG"
      },
      "execution_count": null,
      "outputs": []
    },
    {
      "cell_type": "code",
      "source": [
        "# Poner en prueba el modelo Random Forest (asumiendo que 'best_rf' está definido)\n",
        "prediccion2 = best_rf.predict(embeddings_prueba2)"
      ],
      "metadata": {
        "id": "EBgvTEWk6laB"
      },
      "execution_count": null,
      "outputs": []
    },
    {
      "cell_type": "code",
      "source": [
        "# Interpretar la predicción\n",
        "if prediccion2[0] == 1:\n",
        "    resultado = \"Culpable\"\n",
        "else:\n",
        "    resultado = \"No culpable\""
      ],
      "metadata": {
        "id": "f_VWkf8v6qJ3"
      },
      "execution_count": null,
      "outputs": []
    },
    {
      "cell_type": "code",
      "source": [
        "# Imprimir el resultado\n",
        "print(\"Predicción del modelo:\", resultado)"
      ],
      "metadata": {
        "colab": {
          "base_uri": "https://localhost:8080/"
        },
        "id": "MLI3p-fG6tS2",
        "outputId": "af42ed5c-e66b-47df-8f4a-b51ad8e2f1b5"
      },
      "execution_count": null,
      "outputs": [
        {
          "output_type": "stream",
          "name": "stdout",
          "text": [
            "Predicción del modelo: Culpable\n"
          ]
        }
      ]
    },
    {
      "cell_type": "markdown",
      "source": [
        "Prueba 3"
      ],
      "metadata": {
        "id": "m01K3hZF61aG"
      }
    },
    {
      "cell_type": "code",
      "source": [
        "# Texto de prueba\n",
        "texto_prueba3 = \"La demanda alega que varios contratos celebrados por la sociedad demandada fueron suscritos en violación del régimen de conflicto de intereses, pues los contratistas eran familiares del representante legal de la sociedad\""
      ],
      "metadata": {
        "id": "TfXOEtUf62x1"
      },
      "execution_count": null,
      "outputs": []
    },
    {
      "cell_type": "code",
      "source": [
        "# Obtener los embeddings del texto de prueba\n",
        "embeddings_prueba3 = obtener_embeddings(texto_prueba3)"
      ],
      "metadata": {
        "id": "GD15jjqm6_XG"
      },
      "execution_count": null,
      "outputs": []
    },
    {
      "cell_type": "code",
      "source": [
        "# Poner en prueba el modelo Random Forest (asumiendo que 'best_rf' está definido)\n",
        "prediccion3 = best_rf.predict(embeddings_prueba3)"
      ],
      "metadata": {
        "id": "3Wl_mFZN7E79"
      },
      "execution_count": null,
      "outputs": []
    },
    {
      "cell_type": "code",
      "source": [
        "# Interpretar la predicción\n",
        "if prediccion3[0] == 1:\n",
        "    resultado = \"Culpable\"\n",
        "else:\n",
        "    resultado = \"No culpable\""
      ],
      "metadata": {
        "id": "MCmr0WbL7J_9"
      },
      "execution_count": null,
      "outputs": []
    },
    {
      "cell_type": "code",
      "source": [
        "# Imprimir el resultado\n",
        "print(\"Predicción del modelo:\", resultado)"
      ],
      "metadata": {
        "colab": {
          "base_uri": "https://localhost:8080/"
        },
        "id": "PrhIzaFp7N2F",
        "outputId": "c4c19a2d-56ff-4fda-e974-488a8ea1ca58"
      },
      "execution_count": null,
      "outputs": [
        {
          "output_type": "stream",
          "name": "stdout",
          "text": [
            "Predicción del modelo: Culpable\n"
          ]
        }
      ]
    },
    {
      "cell_type": "markdown",
      "source": [
        "Prueba 4"
      ],
      "metadata": {
        "id": "M744xj8I7Wlf"
      }
    },
    {
      "cell_type": "code",
      "source": [
        "# Texto de prueba\n",
        "texto_prueba4 = \"El administrador citó a todos los socios, pero no asistió a la reunión\""
      ],
      "metadata": {
        "id": "Dk8BARET7T61"
      },
      "execution_count": null,
      "outputs": []
    },
    {
      "cell_type": "code",
      "source": [
        "# Obtener los embeddings del texto de prueba\n",
        "embeddings_prueba4 = obtener_embeddings(texto_prueba4)"
      ],
      "metadata": {
        "id": "FiI6RpKi8Hio"
      },
      "execution_count": null,
      "outputs": []
    },
    {
      "cell_type": "code",
      "source": [
        "# Poner en prueba el modelo Random Forest (asumiendo que 'best_rf' está definido)\n",
        "prediccion4 = best_rf.predict(embeddings_prueba4)"
      ],
      "metadata": {
        "id": "uEec9QFk8Kqk"
      },
      "execution_count": null,
      "outputs": []
    },
    {
      "cell_type": "code",
      "source": [
        "# Interpretar la predicción\n",
        "if prediccion4[0] == 1:\n",
        "    resultado = \"Culpable\"\n",
        "else:\n",
        "    resultado = \"No culpable\""
      ],
      "metadata": {
        "id": "IHLWUILA8PxU"
      },
      "execution_count": null,
      "outputs": []
    },
    {
      "cell_type": "code",
      "source": [
        "# Imprimir el resultado\n",
        "print(\"Predicción del modelo:\", resultado)"
      ],
      "metadata": {
        "colab": {
          "base_uri": "https://localhost:8080/"
        },
        "id": "l4bBJFI-8To8",
        "outputId": "47e70073-30f7-42fa-a96e-173d9fc9b776"
      },
      "execution_count": null,
      "outputs": [
        {
          "output_type": "stream",
          "name": "stdout",
          "text": [
            "Predicción del modelo: Culpable\n"
          ]
        }
      ]
    },
    {
      "cell_type": "markdown",
      "source": [
        "Visualización"
      ],
      "metadata": {
        "id": "tuGhw0hG8wnz"
      }
    },
    {
      "cell_type": "code",
      "source": [
        "from sklearn.decomposition import PCA\n",
        "import matplotlib.pyplot as plt\n",
        "\n",
        "# Reducir la dimensionalidad de los embeddings usando PCA\n",
        "pca = PCA(n_components=2)\n",
        "X_pca = pca.fit_transform(X)\n",
        "\n",
        "# Graficar los embeddings proyectados y colorear según la clase predicha\n",
        "plt.scatter(X_pca[:, 0], X_pca[:, 1], c=best_rf.predict(X))\n",
        "plt.xlabel('Componente Principal 1')\n",
        "plt.ylabel('Componente Principal 2')\n",
        "plt.title('Visualización de Embeddings con PCA')\n",
        "plt.show()"
      ],
      "metadata": {
        "colab": {
          "base_uri": "https://localhost:8080/",
          "height": 472
        },
        "id": "VmuUW5Ij8yrE",
        "outputId": "0e8d35c7-05fe-4b7d-eb19-77b36697f4b1"
      },
      "execution_count": null,
      "outputs": [
        {
          "output_type": "display_data",
          "data": {
            "text/plain": [
              "<Figure size 640x480 with 1 Axes>"
            ],
            "image/png": "[encoded data removed]"
          },
          "metadata": {}
        }
      ]
    },
    {
      "cell_type": "code",
      "source": [
        "# Obtener la importancia de características para la Prueba 1\n",
        "importances_prueba1 = best_rf.feature_importances_ * embeddings_prueba1.flatten() # Flatten the embeddings array\n",
        "\n",
        "# Ordenar las características por importancia\n",
        "indices_importantes = np.argsort(importances_prueba1)[::-1]\n",
        "\n",
        "# Imprimir las características más importantes y sus valores\n",
        "print(\"Características más importantes para la Prueba 1:\")\n",
        "for i in indices_importantes[:5]:  # Mostrar las 5 características más importantes\n",
        "    print(f\"Característica {i}: Importancia = {importances_prueba1[i]}\")"
      ],
      "metadata": {
        "colab": {
          "base_uri": "https://localhost:8080/"
        },
        "id": "Dzny95Uk9bk6",
        "outputId": "a011a72e-8b0a-4b1b-8acc-567a0721714e"
      },
      "execution_count": null,
      "outputs": [
        {
          "output_type": "stream",
          "name": "stdout",
          "text": [
            "Características más importantes para la Prueba 1:\n",
            "Característica 656: Importancia = 0.010909462428768446\n",
            "Característica 591: Importancia = 0.00685585768134701\n",
            "Característica 437: Importancia = 0.005158485724654328\n",
            "Característica 261: Importancia = 0.0027609740860506248\n",
            "Característica 217: Importancia = 0.0025629514411859558\n"
          ]
        }
      ]
    },
    {
      "cell_type": "code",
      "source": [
        "# Imprimir las características más importantes y sus valores\n",
        "print(\"Características más importantes para la Prueba 1:\")\n",
        "top_indices = indices_importantes[:5]  # Store the top 5 indices\n",
        "top_importances = importances_prueba1[top_indices]\n",
        "for i, importance in zip(top_indices, top_importances):  # Mostrar las 5 características más importantes\n",
        "    print(f\"Característica {i}: Importancia = {importance}\")\n",
        "\n",
        "# Visualizar las importancias\n",
        "plt.figure(figsize=(10, 6))\n",
        "plt.bar(range(len(top_importances)), top_importances)\n",
        "plt.xticks(range(len(top_importances)), top_indices)\n",
        "plt.xlabel('Índice de la Característica')\n",
        "plt.ylabel('Importancia')\n",
        "plt.title('Top 5 Características Más Importantes para la Prueba 1')\n",
        "plt.show()"
      ],
      "metadata": {
        "colab": {
          "base_uri": "https://localhost:8080/",
          "height": 669
        },
        "id": "7aJB1Lt59oPC",
        "outputId": "9bef644e-aed9-464e-d1cb-f6f093659779"
      },
      "execution_count": null,
      "outputs": [
        {
          "output_type": "stream",
          "name": "stdout",
          "text": [
            "Características más importantes para la Prueba 1:\n",
            "Característica 656: Importancia = 0.010909462428768446\n",
            "Característica 591: Importancia = 0.00685585768134701\n",
            "Característica 437: Importancia = 0.005158485724654328\n",
            "Característica 261: Importancia = 0.0027609740860506248\n",
            "Característica 217: Importancia = 0.0025629514411859558\n"
          ]
        },
        {
          "output_type": "display_data",
          "data": {
            "text/plain": [
              "<Figure size 1000x600 with 1 Axes>"
            ],
            "image/png": "[encoded data removed]"
          },
          "metadata": {}
        }
      ]
    },
    {
      "cell_type": "code",
      "source": [
        "from sklearn import tree\n",
        "import matplotlib.pyplot as plt\n",
        "\n",
        "# Asumiendo que 'best_rf' es tu modelo RandomForest entrenado\n",
        "# Selecciona un árbol del bosque (por ejemplo, el primero)\n",
        "arbol = best_rf.estimators_[0]\n",
        "\n",
        "# Visualiza el árbol\n",
        "plt.figure(figsize=(20,10))  # Ajusta el tamaño de la figura según sea necesario\n",
        "tree.plot_tree(arbol,\n",
        "               feature_names=None,  # Reemplaza con los nombres de tus características si las tienes\n",
        "               class_names=[\"No Culpable\", \"Culpable\"],  # Reemplaza con los nombres de tus clases\n",
        "               filled=True,\n",
        "               rounded=True)\n",
        "plt.show()"
      ],
      "metadata": {
        "colab": {
          "base_uri": "https://localhost:8080/",
          "height": 552
        },
        "id": "lnyy8Eya90Br",
        "outputId": "0bb5835e-a90c-419d-e65a-c5847149373f"
      },
      "execution_count": null,
      "outputs": [
        {
          "output_type": "display_data",
          "data": {
            "text/plain": [
              "<Figure size 2000x1000 with 1 Axes>"
            ],
            "image/png": "[encoded data removed]"
          },
          "metadata": {}
        }
      ]
    },
    {
      "cell_type": "code",
      "source": [],
      "metadata": {
        "id": "cP4WQ5fC-Dtq"
      },
      "execution_count": null,
      "outputs": []
    }
  ]
}