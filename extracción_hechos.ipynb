{
 "cells": [
  {
   "cell_type": "code",
   "execution_count": 1,
   "id": "e7fe35d9",
   "metadata": {},
   "outputs": [],
   "source": [
    "import os\n",
    "import re\n",
    "import PyPDF2\n",
    "import pandas as pd"
   ]
  },
  {
   "cell_type": "code",
   "execution_count": 2,
   "id": "2813bafb",
   "metadata": {},
   "outputs": [],
   "source": [
    "# Ruta de acceso a la carpeta que contiene los archivos PDF\n",
    "folder_path = r\"C:\\Users\\villa\\OneDrive\\Escritorio\\SuperSociedades\\DatosSelect\"\n",
    "\n"
   ]
  },
  {
   "cell_type": "code",
   "execution_count": 3,
   "id": "0f7cb338",
   "metadata": {},
   "outputs": [],
   "source": [
    "# Función para extraer texto bajo el subtítulo \"Hechos\" de un archivo PDF\n",
    "def extract_hechos_text(pdf_path):\n",
    "    hechos_text = []\n",
    "    with open(pdf_path, 'rb') as file:\n",
    "        reader = PyPDF2.PdfReader(file)\n",
    "        extract = False\n",
    "        for page in reader.pages:\n",
    "            text = page.extract_text()\n",
    "            if text:\n",
    "                lines = text.split('\\n')\n",
    "                for line in lines:\n",
    "                    # Detectar subtítulo \"Hechos\"\n",
    "                    if not extract and re.search(r'\\bHechos\\b', line, re.IGNORECASE):\n",
    "                        extract = True\n",
    "                        hechos_text.append(line)\n",
    "                    # Detectar otros subtítulos (mayúsculas)\n",
    "                    elif extract and re.search(r'^[A-Z][A-Z ]*$', line):\n",
    "                        extract = False\n",
    "                        break\n",
    "                    elif extract:\n",
    "                        hechos_text.append(line)\n",
    "    return \"\\n\".join(hechos_text)"
   ]
  },
  {
   "cell_type": "code",
   "execution_count": 6,
   "id": "7e0d7987",
   "metadata": {},
   "outputs": [],
   "source": [
    "# Lista para almacenar los datos extraídos\n",
    "data = []"
   ]
  },
  {
   "cell_type": "code",
   "execution_count": 7,
   "id": "68749231",
   "metadata": {},
   "outputs": [],
   "source": [
    "# Recorre todos los archivos en la carpeta\n",
    "for filename in os.listdir(folder_path):\n",
    "    if filename.endswith(\".pdf\"):\n",
    "        file_path = os.path.join(folder_path, filename)\n",
    "        text = extract_hechos_text(file_path)\n",
    "        data.append({\"Nombre del archivo\": filename, \"Texto extraído\": text})"
   ]
  },
  {
   "cell_type": "code",
   "execution_count": 8,
   "id": "be6453f7",
   "metadata": {},
   "outputs": [],
   "source": [
    "# Crear un DataFrame con los datos extraídos\n",
    "df = pd.DataFrame(data)\n"
   ]
  },
  {
   "cell_type": "code",
   "execution_count": 9,
   "id": "833f8ff7",
   "metadata": {},
   "outputs": [
    {
     "name": "stdout",
     "output_type": "stream",
     "text": [
      "                                    Nombre del archivo  \\\n",
      "0               -1_2020-800-00217_2022-01-252219-1.pdf   \n",
      "1    115557 SEI KOU S.A. VS. ÁLVARO ESLAVA JÁCOME y...   \n",
      "2    1283_JOSE_LUIS_MALVEHY_y_OTROS_VS._SERVISATELI...   \n",
      "3    134677 GUSTAVO FERNANDO MUÑOZ PEDRAZA Y OTRO V...   \n",
      "4    1933_CARLOS_HAKIM_vs_JORGE_HAKIM_Y_OTROS_10_10...   \n",
      "..                                                 ...   \n",
      "162   Sentencia n.° 801-76  30 de octubre del 2014.pdf   \n",
      "163  Sentencia n.° 801-76  30 de octubre del 2014_c...   \n",
      "164  Sentencia n.° 801-82 de 20 de noviembre del 20...   \n",
      "165  Sentencia n.º 800-83 de 03 de diciembre del 20...   \n",
      "166  Sentencia nº. 800-116 de 4 de septiembre del 2...   \n",
      "\n",
      "                                        Texto extraído  \n",
      "0    hechos concretos y referidos al entorno societ...  \n",
      "1    La parte convocante sustentó sus pretensiones ...  \n",
      "2    10.1 Hechos\\nLas pretensiones formuladas por l...  \n",
      "3    Se hará referencia a las pretensiones de la de...  \n",
      "4    1.4.2.1. Los hechos en los que se sustenta la ...  \n",
      "..                                                 ...  \n",
      "162                                                     \n",
      "163                                                     \n",
      "164                                                     \n",
      "165                                                     \n",
      "166                                                     \n",
      "\n",
      "[167 rows x 2 columns]\n"
     ]
    }
   ],
   "source": [
    "# Mostrar el DataFrame\n",
    "print(df)"
   ]
  },
  {
   "cell_type": "code",
   "execution_count": 10,
   "id": "c50d0474",
   "metadata": {},
   "outputs": [],
   "source": [
    "datos_completos=df"
   ]
  },
  {
   "cell_type": "code",
   "execution_count": 11,
   "id": "225b397a",
   "metadata": {},
   "outputs": [],
   "source": [
    "# Guardar el DataFrame en un archivo Excel\n",
    "datos_completos.to_excel('hechos.xlsx', index=False)"
   ]
  },
  {
   "cell_type": "code",
   "execution_count": 12,
   "id": "73e6b22e",
   "metadata": {},
   "outputs": [],
   "source": [
    "# Función para extraer texto bajo el subtítulo \"Hechos\" de un archivo PDF\n",
    "def extract_pretensiones_text(pdf_path):\n",
    "    pretensiones_text = []\n",
    "    with open(pdf_path, 'rb') as file:\n",
    "        reader = PyPDF2.PdfReader(file)\n",
    "        extract = False\n",
    "        for page in reader.pages:\n",
    "            text = page.extract_text()\n",
    "            if text:\n",
    "                lines = text.split('\\n')\n",
    "                for line in lines:\n",
    "                    # Detectar subtítulo \"Hechos\"\n",
    "                    if not extract and re.search(r'\\bPretensiones\\b', line, re.IGNORECASE):\n",
    "                        extract = True\n",
    "                        pretensiones_text.append(line)\n",
    "                    # Detectar otros subtítulos (mayúsculas)\n",
    "                    elif extract and re.search(r'^[A-Z][A-Z ]*$', line):\n",
    "                        extract = False\n",
    "                        break\n",
    "                    elif extract:\n",
    "                        pretensiones_text.append(line)\n",
    "    return \"\\n\".join(pretensiones_text)"
   ]
  },
  {
   "cell_type": "code",
   "execution_count": 14,
   "id": "d4a00644",
   "metadata": {},
   "outputs": [],
   "source": [
    "# Lista para almacenar los datos extraídos\n",
    "data2 = []"
   ]
  },
  {
   "cell_type": "code",
   "execution_count": 15,
   "id": "298e95e7",
   "metadata": {},
   "outputs": [],
   "source": [
    "# Recorre todos los archivos en la carpeta\n",
    "for filename in os.listdir(folder_path):\n",
    "    if filename.endswith(\".pdf\"):\n",
    "        file_path = os.path.join(folder_path, filename)\n",
    "        text = extract_pretensiones_text(file_path)\n",
    "        data.append({\"Nombre del archivo\": filename, \"Texto extraído\": text})"
   ]
  },
  {
   "cell_type": "code",
   "execution_count": 16,
   "id": "c8f70fc2",
   "metadata": {},
   "outputs": [],
   "source": [
    "# Crear un DataFrame con los datos extraídos\n",
    "df = pd.DataFrame(data2)"
   ]
  },
  {
   "cell_type": "code",
   "execution_count": 17,
   "id": "ce069549",
   "metadata": {},
   "outputs": [
    {
     "name": "stdout",
     "output_type": "stream",
     "text": [
      "Empty DataFrame\n",
      "Columns: []\n",
      "Index: []\n"
     ]
    }
   ],
   "source": [
    "# Mostrar el DataFrame\n",
    "print(df)"
   ]
  },
  {
   "cell_type": "code",
   "execution_count": null,
   "id": "bf8176ae",
   "metadata": {},
   "outputs": [],
   "source": []
  }
 ],
 "metadata": {
  "kernelspec": {
   "display_name": "Python 3 (ipykernel)",
   "language": "python",
   "name": "python3"
  },
  "language_info": {
   "codemirror_mode": {
    "name": "ipython",
    "version": 3
   },
   "file_extension": ".py",
   "mimetype": "text/x-python",
   "name": "python",
   "nbconvert_exporter": "python",
   "pygments_lexer": "ipython3",
   "version": "3.10.9"
  }
 },
 "nbformat": 4,
 "nbformat_minor": 5
}
